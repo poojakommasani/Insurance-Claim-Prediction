{
 "cells": [
  {
   "cell_type": "markdown",
   "metadata": {},
   "source": [
    "# Additional Comparative study Part -3\n"
   ]
  },
  {
   "cell_type": "code",
   "execution_count": 1,
   "metadata": {},
   "outputs": [],
   "source": [
    "# importing Libraries\n",
    "import pandas as pd\n",
    "import numpy as np\n",
    "from sklearn import metrics\n",
    "from sklearn.metrics import r2_score\n",
    "import seaborn as sns\n",
    "# to avoid warnings\n",
    "import warnings \n",
    "warnings.filterwarnings('ignore')\n",
    "# Repeated kfold for cross validation\n",
    "from sklearn.model_selection import RepeatedKFold\n",
    "# GridSearchCV for hyperparameters tuning\n",
    "from sklearn.model_selection import GridSearchCV"
   ]
  },
  {
   "cell_type": "code",
   "execution_count": 2,
   "metadata": {},
   "outputs": [],
   "source": [
    "# loading data\n",
    "data = pd.read_csv(\"CE802_P3_Data.csv\")\n",
    "test = pd.read_csv('CE802_P3_Test.csv')"
   ]
  },
  {
   "cell_type": "code",
   "execution_count": 3,
   "metadata": {},
   "outputs": [
    {
     "data": {
      "text/plain": [
       "<AxesSubplot:xlabel='Target', ylabel='Density'>"
      ]
     },
     "execution_count": 3,
     "metadata": {},
     "output_type": "execute_result"
    },
    {
     "data": {
      "image/png": "[encoded data removed]",
      "text/plain": [
       "<Figure size 432x288 with 1 Axes>"
      ]
     },
     "metadata": {
      "needs_background": "light"
     },
     "output_type": "display_data"
    }
   ],
   "source": [
    "sns.distplot(data['Target'],bins=10)"
   ]
  },
  {
   "cell_type": "code",
   "execution_count": 4,
   "metadata": {},
   "outputs": [
    {
     "data": {
      "text/html": [
       "<div>\n",
       "<style scoped>\n",
       "    .dataframe tbody tr th:only-of-type {\n",
       "        vertical-align: middle;\n",
       "    }\n",
       "\n",
       "    .dataframe tbody tr th {\n",
       "        vertical-align: top;\n",
       "    }\n",
       "\n",
       "    .dataframe thead th {\n",
       "        text-align: right;\n",
       "    }\n",
       "</style>\n",
       "<table border=\"1\" class=\"dataframe\">\n",
       "  <thead>\n",
       "    <tr style=\"text-align: right;\">\n",
       "      <th></th>\n",
       "      <th>F1</th>\n",
       "      <th>F2</th>\n",
       "      <th>F3</th>\n",
       "      <th>F4</th>\n",
       "      <th>F5</th>\n",
       "      <th>F6</th>\n",
       "      <th>F7</th>\n",
       "      <th>F8</th>\n",
       "      <th>F9</th>\n",
       "      <th>F10</th>\n",
       "      <th>F11</th>\n",
       "      <th>F12</th>\n",
       "      <th>F13</th>\n",
       "      <th>F14</th>\n",
       "      <th>F15</th>\n",
       "      <th>F16</th>\n",
       "      <th>Target</th>\n",
       "    </tr>\n",
       "  </thead>\n",
       "  <tbody>\n",
       "    <tr>\n",
       "      <th>0</th>\n",
       "      <td>-39.32</td>\n",
       "      <td>5.72</td>\n",
       "      <td>-13.83</td>\n",
       "      <td>High</td>\n",
       "      <td>UK</td>\n",
       "      <td>0.03</td>\n",
       "      <td>-200.46</td>\n",
       "      <td>122.09</td>\n",
       "      <td>-2.96</td>\n",
       "      <td>6</td>\n",
       "      <td>2.67</td>\n",
       "      <td>8</td>\n",
       "      <td>607.14</td>\n",
       "      <td>19.19</td>\n",
       "      <td>10523.40</td>\n",
       "      <td>-635.80</td>\n",
       "      <td>1051.99</td>\n",
       "    </tr>\n",
       "    <tr>\n",
       "      <th>1</th>\n",
       "      <td>-29.38</td>\n",
       "      <td>8.20</td>\n",
       "      <td>-11.07</td>\n",
       "      <td>Medium</td>\n",
       "      <td>UK</td>\n",
       "      <td>56.97</td>\n",
       "      <td>-427.78</td>\n",
       "      <td>74.25</td>\n",
       "      <td>-22.94</td>\n",
       "      <td>4</td>\n",
       "      <td>3.84</td>\n",
       "      <td>10</td>\n",
       "      <td>867.03</td>\n",
       "      <td>12.65</td>\n",
       "      <td>10037.04</td>\n",
       "      <td>-469.73</td>\n",
       "      <td>816.64</td>\n",
       "    </tr>\n",
       "    <tr>\n",
       "      <th>2</th>\n",
       "      <td>2.46</td>\n",
       "      <td>20.32</td>\n",
       "      <td>-7.59</td>\n",
       "      <td>Low</td>\n",
       "      <td>Rest</td>\n",
       "      <td>45.00</td>\n",
       "      <td>-329.02</td>\n",
       "      <td>96.98</td>\n",
       "      <td>-10.90</td>\n",
       "      <td>4</td>\n",
       "      <td>13.14</td>\n",
       "      <td>8</td>\n",
       "      <td>-153.66</td>\n",
       "      <td>13.01</td>\n",
       "      <td>15100.28</td>\n",
       "      <td>-662.31</td>\n",
       "      <td>3241.77</td>\n",
       "    </tr>\n",
       "    <tr>\n",
       "      <th>3</th>\n",
       "      <td>16.33</td>\n",
       "      <td>2.76</td>\n",
       "      <td>-8.40</td>\n",
       "      <td>High</td>\n",
       "      <td>Rest</td>\n",
       "      <td>0.12</td>\n",
       "      <td>-196.88</td>\n",
       "      <td>42.45</td>\n",
       "      <td>-12.16</td>\n",
       "      <td>12</td>\n",
       "      <td>1.29</td>\n",
       "      <td>6</td>\n",
       "      <td>1461.87</td>\n",
       "      <td>9.19</td>\n",
       "      <td>22518.15</td>\n",
       "      <td>-1100.35</td>\n",
       "      <td>0.00</td>\n",
       "    </tr>\n",
       "    <tr>\n",
       "      <th>4</th>\n",
       "      <td>-14.93</td>\n",
       "      <td>9.98</td>\n",
       "      <td>-5.28</td>\n",
       "      <td>Medium</td>\n",
       "      <td>USA</td>\n",
       "      <td>557.61</td>\n",
       "      <td>-249.50</td>\n",
       "      <td>76.25</td>\n",
       "      <td>-20.54</td>\n",
       "      <td>8</td>\n",
       "      <td>2.58</td>\n",
       "      <td>2</td>\n",
       "      <td>-433.89</td>\n",
       "      <td>18.44</td>\n",
       "      <td>20111.46</td>\n",
       "      <td>-752.48</td>\n",
       "      <td>0.00</td>\n",
       "    </tr>\n",
       "  </tbody>\n",
       "</table>\n",
       "</div>"
      ],
      "text/plain": [
       "      F1     F2     F3      F4    F5      F6      F7      F8     F9  F10  \\\n",
       "0 -39.32   5.72 -13.83    High    UK    0.03 -200.46  122.09  -2.96    6   \n",
       "1 -29.38   8.20 -11.07  Medium    UK   56.97 -427.78   74.25 -22.94    4   \n",
       "2   2.46  20.32  -7.59     Low  Rest   45.00 -329.02   96.98 -10.90    4   \n",
       "3  16.33   2.76  -8.40    High  Rest    0.12 -196.88   42.45 -12.16   12   \n",
       "4 -14.93   9.98  -5.28  Medium   USA  557.61 -249.50   76.25 -20.54    8   \n",
       "\n",
       "     F11  F12      F13    F14       F15      F16   Target  \n",
       "0   2.67    8   607.14  19.19  10523.40  -635.80  1051.99  \n",
       "1   3.84   10   867.03  12.65  10037.04  -469.73   816.64  \n",
       "2  13.14    8  -153.66  13.01  15100.28  -662.31  3241.77  \n",
       "3   1.29    6  1461.87   9.19  22518.15 -1100.35     0.00  \n",
       "4   2.58    2  -433.89  18.44  20111.46  -752.48     0.00  "
      ]
     },
     "execution_count": 4,
     "metadata": {},
     "output_type": "execute_result"
    }
   ],
   "source": [
    "# first 5 rows of data \n",
    "data.head()"
   ]
  },
  {
   "cell_type": "code",
   "execution_count": 5,
   "metadata": {},
   "outputs": [],
   "source": [
    "# Hot encoding catagorical values\n",
    "df = pd.get_dummies(data, columns=['F4','F5'])"
   ]
  },
  {
   "cell_type": "code",
   "execution_count": 6,
   "metadata": {},
   "outputs": [
    {
     "data": {
      "text/html": [
       "<div>\n",
       "<style scoped>\n",
       "    .dataframe tbody tr th:only-of-type {\n",
       "        vertical-align: middle;\n",
       "    }\n",
       "\n",
       "    .dataframe tbody tr th {\n",
       "        vertical-align: top;\n",
       "    }\n",
       "\n",
       "    .dataframe thead th {\n",
       "        text-align: right;\n",
       "    }\n",
       "</style>\n",
       "<table border=\"1\" class=\"dataframe\">\n",
       "  <thead>\n",
       "    <tr style=\"text-align: right;\">\n",
       "      <th></th>\n",
       "      <th>F1</th>\n",
       "      <th>F2</th>\n",
       "      <th>F3</th>\n",
       "      <th>F6</th>\n",
       "      <th>F7</th>\n",
       "      <th>F8</th>\n",
       "      <th>F9</th>\n",
       "      <th>F10</th>\n",
       "      <th>F11</th>\n",
       "      <th>F12</th>\n",
       "      <th>...</th>\n",
       "      <th>Target</th>\n",
       "      <th>F4_High</th>\n",
       "      <th>F4_Low</th>\n",
       "      <th>F4_Medium</th>\n",
       "      <th>F4_Very high</th>\n",
       "      <th>F4_Very low</th>\n",
       "      <th>F5_Europe</th>\n",
       "      <th>F5_Rest</th>\n",
       "      <th>F5_UK</th>\n",
       "      <th>F5_USA</th>\n",
       "    </tr>\n",
       "  </thead>\n",
       "  <tbody>\n",
       "    <tr>\n",
       "      <th>0</th>\n",
       "      <td>-39.32</td>\n",
       "      <td>5.72</td>\n",
       "      <td>-13.83</td>\n",
       "      <td>0.03</td>\n",
       "      <td>-200.46</td>\n",
       "      <td>122.09</td>\n",
       "      <td>-2.96</td>\n",
       "      <td>6</td>\n",
       "      <td>2.67</td>\n",
       "      <td>8</td>\n",
       "      <td>...</td>\n",
       "      <td>1051.99</td>\n",
       "      <td>1</td>\n",
       "      <td>0</td>\n",
       "      <td>0</td>\n",
       "      <td>0</td>\n",
       "      <td>0</td>\n",
       "      <td>0</td>\n",
       "      <td>0</td>\n",
       "      <td>1</td>\n",
       "      <td>0</td>\n",
       "    </tr>\n",
       "    <tr>\n",
       "      <th>1</th>\n",
       "      <td>-29.38</td>\n",
       "      <td>8.20</td>\n",
       "      <td>-11.07</td>\n",
       "      <td>56.97</td>\n",
       "      <td>-427.78</td>\n",
       "      <td>74.25</td>\n",
       "      <td>-22.94</td>\n",
       "      <td>4</td>\n",
       "      <td>3.84</td>\n",
       "      <td>10</td>\n",
       "      <td>...</td>\n",
       "      <td>816.64</td>\n",
       "      <td>0</td>\n",
       "      <td>0</td>\n",
       "      <td>1</td>\n",
       "      <td>0</td>\n",
       "      <td>0</td>\n",
       "      <td>0</td>\n",
       "      <td>0</td>\n",
       "      <td>1</td>\n",
       "      <td>0</td>\n",
       "    </tr>\n",
       "    <tr>\n",
       "      <th>2</th>\n",
       "      <td>2.46</td>\n",
       "      <td>20.32</td>\n",
       "      <td>-7.59</td>\n",
       "      <td>45.00</td>\n",
       "      <td>-329.02</td>\n",
       "      <td>96.98</td>\n",
       "      <td>-10.90</td>\n",
       "      <td>4</td>\n",
       "      <td>13.14</td>\n",
       "      <td>8</td>\n",
       "      <td>...</td>\n",
       "      <td>3241.77</td>\n",
       "      <td>0</td>\n",
       "      <td>1</td>\n",
       "      <td>0</td>\n",
       "      <td>0</td>\n",
       "      <td>0</td>\n",
       "      <td>0</td>\n",
       "      <td>1</td>\n",
       "      <td>0</td>\n",
       "      <td>0</td>\n",
       "    </tr>\n",
       "    <tr>\n",
       "      <th>3</th>\n",
       "      <td>16.33</td>\n",
       "      <td>2.76</td>\n",
       "      <td>-8.40</td>\n",
       "      <td>0.12</td>\n",
       "      <td>-196.88</td>\n",
       "      <td>42.45</td>\n",
       "      <td>-12.16</td>\n",
       "      <td>12</td>\n",
       "      <td>1.29</td>\n",
       "      <td>6</td>\n",
       "      <td>...</td>\n",
       "      <td>0.00</td>\n",
       "      <td>1</td>\n",
       "      <td>0</td>\n",
       "      <td>0</td>\n",
       "      <td>0</td>\n",
       "      <td>0</td>\n",
       "      <td>0</td>\n",
       "      <td>1</td>\n",
       "      <td>0</td>\n",
       "      <td>0</td>\n",
       "    </tr>\n",
       "    <tr>\n",
       "      <th>4</th>\n",
       "      <td>-14.93</td>\n",
       "      <td>9.98</td>\n",
       "      <td>-5.28</td>\n",
       "      <td>557.61</td>\n",
       "      <td>-249.50</td>\n",
       "      <td>76.25</td>\n",
       "      <td>-20.54</td>\n",
       "      <td>8</td>\n",
       "      <td>2.58</td>\n",
       "      <td>2</td>\n",
       "      <td>...</td>\n",
       "      <td>0.00</td>\n",
       "      <td>0</td>\n",
       "      <td>0</td>\n",
       "      <td>1</td>\n",
       "      <td>0</td>\n",
       "      <td>0</td>\n",
       "      <td>0</td>\n",
       "      <td>0</td>\n",
       "      <td>0</td>\n",
       "      <td>1</td>\n",
       "    </tr>\n",
       "  </tbody>\n",
       "</table>\n",
       "<p>5 rows × 24 columns</p>\n",
       "</div>"
      ],
      "text/plain": [
       "      F1     F2     F3      F6      F7      F8     F9  F10    F11  F12  ...  \\\n",
       "0 -39.32   5.72 -13.83    0.03 -200.46  122.09  -2.96    6   2.67    8  ...   \n",
       "1 -29.38   8.20 -11.07   56.97 -427.78   74.25 -22.94    4   3.84   10  ...   \n",
       "2   2.46  20.32  -7.59   45.00 -329.02   96.98 -10.90    4  13.14    8  ...   \n",
       "3  16.33   2.76  -8.40    0.12 -196.88   42.45 -12.16   12   1.29    6  ...   \n",
       "4 -14.93   9.98  -5.28  557.61 -249.50   76.25 -20.54    8   2.58    2  ...   \n",
       "\n",
       "    Target  F4_High  F4_Low  F4_Medium  F4_Very high  F4_Very low  F5_Europe  \\\n",
       "0  1051.99        1       0          0             0            0          0   \n",
       "1   816.64        0       0          1             0            0          0   \n",
       "2  3241.77        0       1          0             0            0          0   \n",
       "3     0.00        1       0          0             0            0          0   \n",
       "4     0.00        0       0          1             0            0          0   \n",
       "\n",
       "   F5_Rest  F5_UK  F5_USA  \n",
       "0        0      1       0  \n",
       "1        0      1       0  \n",
       "2        1      0       0  \n",
       "3        1      0       0  \n",
       "4        0      0       1  \n",
       "\n",
       "[5 rows x 24 columns]"
      ]
     },
     "execution_count": 6,
     "metadata": {},
     "output_type": "execute_result"
    }
   ],
   "source": [
    "# first 5 rows after encoding\n",
    "df.head()"
   ]
  },
  {
   "cell_type": "code",
   "execution_count": 7,
   "metadata": {},
   "outputs": [],
   "source": [
    "# setting Target column as last column\n",
    "df = df[[c for c in df if c != 'Target'] + ['Target']]"
   ]
  },
  {
   "cell_type": "code",
   "execution_count": 8,
   "metadata": {},
   "outputs": [
    {
     "data": {
      "text/html": [
       "<div>\n",
       "<style scoped>\n",
       "    .dataframe tbody tr th:only-of-type {\n",
       "        vertical-align: middle;\n",
       "    }\n",
       "\n",
       "    .dataframe tbody tr th {\n",
       "        vertical-align: top;\n",
       "    }\n",
       "\n",
       "    .dataframe thead th {\n",
       "        text-align: right;\n",
       "    }\n",
       "</style>\n",
       "<table border=\"1\" class=\"dataframe\">\n",
       "  <thead>\n",
       "    <tr style=\"text-align: right;\">\n",
       "      <th></th>\n",
       "      <th>F1</th>\n",
       "      <th>F2</th>\n",
       "      <th>F3</th>\n",
       "      <th>F6</th>\n",
       "      <th>F7</th>\n",
       "      <th>F8</th>\n",
       "      <th>F9</th>\n",
       "      <th>F10</th>\n",
       "      <th>F11</th>\n",
       "      <th>F12</th>\n",
       "      <th>...</th>\n",
       "      <th>F4_High</th>\n",
       "      <th>F4_Low</th>\n",
       "      <th>F4_Medium</th>\n",
       "      <th>F4_Very high</th>\n",
       "      <th>F4_Very low</th>\n",
       "      <th>F5_Europe</th>\n",
       "      <th>F5_Rest</th>\n",
       "      <th>F5_UK</th>\n",
       "      <th>F5_USA</th>\n",
       "      <th>Target</th>\n",
       "    </tr>\n",
       "  </thead>\n",
       "  <tbody>\n",
       "    <tr>\n",
       "      <th>0</th>\n",
       "      <td>-39.32</td>\n",
       "      <td>5.72</td>\n",
       "      <td>-13.83</td>\n",
       "      <td>0.03</td>\n",
       "      <td>-200.46</td>\n",
       "      <td>122.09</td>\n",
       "      <td>-2.96</td>\n",
       "      <td>6</td>\n",
       "      <td>2.67</td>\n",
       "      <td>8</td>\n",
       "      <td>...</td>\n",
       "      <td>1</td>\n",
       "      <td>0</td>\n",
       "      <td>0</td>\n",
       "      <td>0</td>\n",
       "      <td>0</td>\n",
       "      <td>0</td>\n",
       "      <td>0</td>\n",
       "      <td>1</td>\n",
       "      <td>0</td>\n",
       "      <td>1051.99</td>\n",
       "    </tr>\n",
       "    <tr>\n",
       "      <th>1</th>\n",
       "      <td>-29.38</td>\n",
       "      <td>8.20</td>\n",
       "      <td>-11.07</td>\n",
       "      <td>56.97</td>\n",
       "      <td>-427.78</td>\n",
       "      <td>74.25</td>\n",
       "      <td>-22.94</td>\n",
       "      <td>4</td>\n",
       "      <td>3.84</td>\n",
       "      <td>10</td>\n",
       "      <td>...</td>\n",
       "      <td>0</td>\n",
       "      <td>0</td>\n",
       "      <td>1</td>\n",
       "      <td>0</td>\n",
       "      <td>0</td>\n",
       "      <td>0</td>\n",
       "      <td>0</td>\n",
       "      <td>1</td>\n",
       "      <td>0</td>\n",
       "      <td>816.64</td>\n",
       "    </tr>\n",
       "    <tr>\n",
       "      <th>2</th>\n",
       "      <td>2.46</td>\n",
       "      <td>20.32</td>\n",
       "      <td>-7.59</td>\n",
       "      <td>45.00</td>\n",
       "      <td>-329.02</td>\n",
       "      <td>96.98</td>\n",
       "      <td>-10.90</td>\n",
       "      <td>4</td>\n",
       "      <td>13.14</td>\n",
       "      <td>8</td>\n",
       "      <td>...</td>\n",
       "      <td>0</td>\n",
       "      <td>1</td>\n",
       "      <td>0</td>\n",
       "      <td>0</td>\n",
       "      <td>0</td>\n",
       "      <td>0</td>\n",
       "      <td>1</td>\n",
       "      <td>0</td>\n",
       "      <td>0</td>\n",
       "      <td>3241.77</td>\n",
       "    </tr>\n",
       "    <tr>\n",
       "      <th>3</th>\n",
       "      <td>16.33</td>\n",
       "      <td>2.76</td>\n",
       "      <td>-8.40</td>\n",
       "      <td>0.12</td>\n",
       "      <td>-196.88</td>\n",
       "      <td>42.45</td>\n",
       "      <td>-12.16</td>\n",
       "      <td>12</td>\n",
       "      <td>1.29</td>\n",
       "      <td>6</td>\n",
       "      <td>...</td>\n",
       "      <td>1</td>\n",
       "      <td>0</td>\n",
       "      <td>0</td>\n",
       "      <td>0</td>\n",
       "      <td>0</td>\n",
       "      <td>0</td>\n",
       "      <td>1</td>\n",
       "      <td>0</td>\n",
       "      <td>0</td>\n",
       "      <td>0.00</td>\n",
       "    </tr>\n",
       "    <tr>\n",
       "      <th>4</th>\n",
       "      <td>-14.93</td>\n",
       "      <td>9.98</td>\n",
       "      <td>-5.28</td>\n",
       "      <td>557.61</td>\n",
       "      <td>-249.50</td>\n",
       "      <td>76.25</td>\n",
       "      <td>-20.54</td>\n",
       "      <td>8</td>\n",
       "      <td>2.58</td>\n",
       "      <td>2</td>\n",
       "      <td>...</td>\n",
       "      <td>0</td>\n",
       "      <td>0</td>\n",
       "      <td>1</td>\n",
       "      <td>0</td>\n",
       "      <td>0</td>\n",
       "      <td>0</td>\n",
       "      <td>0</td>\n",
       "      <td>0</td>\n",
       "      <td>1</td>\n",
       "      <td>0.00</td>\n",
       "    </tr>\n",
       "  </tbody>\n",
       "</table>\n",
       "<p>5 rows × 24 columns</p>\n",
       "</div>"
      ],
      "text/plain": [
       "      F1     F2     F3      F6      F7      F8     F9  F10    F11  F12  ...  \\\n",
       "0 -39.32   5.72 -13.83    0.03 -200.46  122.09  -2.96    6   2.67    8  ...   \n",
       "1 -29.38   8.20 -11.07   56.97 -427.78   74.25 -22.94    4   3.84   10  ...   \n",
       "2   2.46  20.32  -7.59   45.00 -329.02   96.98 -10.90    4  13.14    8  ...   \n",
       "3  16.33   2.76  -8.40    0.12 -196.88   42.45 -12.16   12   1.29    6  ...   \n",
       "4 -14.93   9.98  -5.28  557.61 -249.50   76.25 -20.54    8   2.58    2  ...   \n",
       "\n",
       "   F4_High  F4_Low  F4_Medium  F4_Very high  F4_Very low  F5_Europe  F5_Rest  \\\n",
       "0        1       0          0             0            0          0        0   \n",
       "1        0       0          1             0            0          0        0   \n",
       "2        0       1          0             0            0          0        1   \n",
       "3        1       0          0             0            0          0        1   \n",
       "4        0       0          1             0            0          0        0   \n",
       "\n",
       "   F5_UK  F5_USA   Target  \n",
       "0      1       0  1051.99  \n",
       "1      1       0   816.64  \n",
       "2      0       0  3241.77  \n",
       "3      0       0     0.00  \n",
       "4      0       1     0.00  \n",
       "\n",
       "[5 rows x 24 columns]"
      ]
     },
     "execution_count": 8,
     "metadata": {},
     "output_type": "execute_result"
    }
   ],
   "source": [
    "# data after setting target as last column\n",
    "df.head()"
   ]
  },
  {
   "cell_type": "code",
   "execution_count": 9,
   "metadata": {},
   "outputs": [
    {
     "data": {
      "text/plain": [
       "F1              0\n",
       "F2              0\n",
       "F3              0\n",
       "F6              0\n",
       "F7              0\n",
       "F8              0\n",
       "F9              0\n",
       "F10             0\n",
       "F11             0\n",
       "F12             0\n",
       "F13             0\n",
       "F14             0\n",
       "F15             0\n",
       "F16             0\n",
       "F4_High         0\n",
       "F4_Low          0\n",
       "F4_Medium       0\n",
       "F4_Very high    0\n",
       "F4_Very low     0\n",
       "F5_Europe       0\n",
       "F5_Rest         0\n",
       "F5_UK           0\n",
       "F5_USA          0\n",
       "Target          0\n",
       "dtype: int64"
      ]
     },
     "execution_count": 9,
     "metadata": {},
     "output_type": "execute_result"
    }
   ],
   "source": [
    "#checking null values\n",
    "df.isnull().sum()"
   ]
  },
  {
   "cell_type": "code",
   "execution_count": 10,
   "metadata": {},
   "outputs": [
    {
     "data": {
      "text/html": [
       "<div>\n",
       "<style scoped>\n",
       "    .dataframe tbody tr th:only-of-type {\n",
       "        vertical-align: middle;\n",
       "    }\n",
       "\n",
       "    .dataframe tbody tr th {\n",
       "        vertical-align: top;\n",
       "    }\n",
       "\n",
       "    .dataframe thead th {\n",
       "        text-align: right;\n",
       "    }\n",
       "</style>\n",
       "<table border=\"1\" class=\"dataframe\">\n",
       "  <thead>\n",
       "    <tr style=\"text-align: right;\">\n",
       "      <th></th>\n",
       "      <th>F1</th>\n",
       "      <th>F2</th>\n",
       "      <th>F3</th>\n",
       "      <th>F4</th>\n",
       "      <th>F5</th>\n",
       "      <th>F6</th>\n",
       "      <th>F7</th>\n",
       "      <th>F8</th>\n",
       "      <th>F9</th>\n",
       "      <th>F10</th>\n",
       "      <th>F11</th>\n",
       "      <th>F12</th>\n",
       "      <th>F13</th>\n",
       "      <th>F14</th>\n",
       "      <th>F15</th>\n",
       "      <th>F16</th>\n",
       "      <th>Target</th>\n",
       "    </tr>\n",
       "  </thead>\n",
       "  <tbody>\n",
       "    <tr>\n",
       "      <th>0</th>\n",
       "      <td>-39.37</td>\n",
       "      <td>4.22</td>\n",
       "      <td>-4.05</td>\n",
       "      <td>Very high</td>\n",
       "      <td>UK</td>\n",
       "      <td>83.43</td>\n",
       "      <td>-209.02</td>\n",
       "      <td>101.94</td>\n",
       "      <td>-17.16</td>\n",
       "      <td>2</td>\n",
       "      <td>7.89</td>\n",
       "      <td>10</td>\n",
       "      <td>2373.57</td>\n",
       "      <td>13.11</td>\n",
       "      <td>30843.16</td>\n",
       "      <td>-962.72</td>\n",
       "      <td>2307.406441</td>\n",
       "    </tr>\n",
       "    <tr>\n",
       "      <th>1</th>\n",
       "      <td>-39.37</td>\n",
       "      <td>7.72</td>\n",
       "      <td>-3.48</td>\n",
       "      <td>Very low</td>\n",
       "      <td>Rest</td>\n",
       "      <td>48.30</td>\n",
       "      <td>86.62</td>\n",
       "      <td>107.56</td>\n",
       "      <td>-11.00</td>\n",
       "      <td>18</td>\n",
       "      <td>1.86</td>\n",
       "      <td>10</td>\n",
       "      <td>1475.76</td>\n",
       "      <td>11.71</td>\n",
       "      <td>15657.13</td>\n",
       "      <td>-305.24</td>\n",
       "      <td>942.096178</td>\n",
       "    </tr>\n",
       "    <tr>\n",
       "      <th>2</th>\n",
       "      <td>16.25</td>\n",
       "      <td>7.08</td>\n",
       "      <td>-5.31</td>\n",
       "      <td>Very low</td>\n",
       "      <td>Europe</td>\n",
       "      <td>1.98</td>\n",
       "      <td>-267.34</td>\n",
       "      <td>23.33</td>\n",
       "      <td>-14.66</td>\n",
       "      <td>8</td>\n",
       "      <td>25.92</td>\n",
       "      <td>6</td>\n",
       "      <td>192.93</td>\n",
       "      <td>17.60</td>\n",
       "      <td>10765.05</td>\n",
       "      <td>-857.16</td>\n",
       "      <td>614.390166</td>\n",
       "    </tr>\n",
       "    <tr>\n",
       "      <th>3</th>\n",
       "      <td>23.08</td>\n",
       "      <td>5.82</td>\n",
       "      <td>-5.91</td>\n",
       "      <td>Very low</td>\n",
       "      <td>UK</td>\n",
       "      <td>11.49</td>\n",
       "      <td>-196.52</td>\n",
       "      <td>115.19</td>\n",
       "      <td>-12.14</td>\n",
       "      <td>2</td>\n",
       "      <td>12.87</td>\n",
       "      <td>0</td>\n",
       "      <td>2779.23</td>\n",
       "      <td>13.59</td>\n",
       "      <td>14778.80</td>\n",
       "      <td>-798.06</td>\n",
       "      <td>1766.561205</td>\n",
       "    </tr>\n",
       "    <tr>\n",
       "      <th>4</th>\n",
       "      <td>-21.30</td>\n",
       "      <td>15.14</td>\n",
       "      <td>-4.02</td>\n",
       "      <td>Medium</td>\n",
       "      <td>USA</td>\n",
       "      <td>0.60</td>\n",
       "      <td>-80.36</td>\n",
       "      <td>75.42</td>\n",
       "      <td>-8.86</td>\n",
       "      <td>10</td>\n",
       "      <td>4.26</td>\n",
       "      <td>8</td>\n",
       "      <td>-441.42</td>\n",
       "      <td>13.62</td>\n",
       "      <td>16328.25</td>\n",
       "      <td>-832.93</td>\n",
       "      <td>679.423193</td>\n",
       "    </tr>\n",
       "  </tbody>\n",
       "</table>\n",
       "</div>"
      ],
      "text/plain": [
       "      F1     F2    F3         F4      F5     F6      F7      F8     F9  F10  \\\n",
       "0 -39.37   4.22 -4.05  Very high      UK  83.43 -209.02  101.94 -17.16    2   \n",
       "1 -39.37   7.72 -3.48   Very low    Rest  48.30   86.62  107.56 -11.00   18   \n",
       "2  16.25   7.08 -5.31   Very low  Europe   1.98 -267.34   23.33 -14.66    8   \n",
       "3  23.08   5.82 -5.91   Very low      UK  11.49 -196.52  115.19 -12.14    2   \n",
       "4 -21.30  15.14 -4.02     Medium     USA   0.60  -80.36   75.42  -8.86   10   \n",
       "\n",
       "     F11  F12      F13    F14       F15     F16       Target  \n",
       "0   7.89   10  2373.57  13.11  30843.16 -962.72  2307.406441  \n",
       "1   1.86   10  1475.76  11.71  15657.13 -305.24   942.096178  \n",
       "2  25.92    6   192.93  17.60  10765.05 -857.16   614.390166  \n",
       "3  12.87    0  2779.23  13.59  14778.80 -798.06  1766.561205  \n",
       "4   4.26    8  -441.42  13.62  16328.25 -832.93   679.423193  "
      ]
     },
     "execution_count": 10,
     "metadata": {},
     "output_type": "execute_result"
    }
   ],
   "source": [
    "# checking test data\n",
    "test.head()"
   ]
  },
  {
   "cell_type": "code",
   "execution_count": 11,
   "metadata": {},
   "outputs": [],
   "source": [
    "# hot encoding test data\n",
    "df_test = pd.get_dummies(test, columns=['F4','F5'])"
   ]
  },
  {
   "cell_type": "code",
   "execution_count": 12,
   "metadata": {},
   "outputs": [
    {
     "data": {
      "text/html": [
       "<div>\n",
       "<style scoped>\n",
       "    .dataframe tbody tr th:only-of-type {\n",
       "        vertical-align: middle;\n",
       "    }\n",
       "\n",
       "    .dataframe tbody tr th {\n",
       "        vertical-align: top;\n",
       "    }\n",
       "\n",
       "    .dataframe thead th {\n",
       "        text-align: right;\n",
       "    }\n",
       "</style>\n",
       "<table border=\"1\" class=\"dataframe\">\n",
       "  <thead>\n",
       "    <tr style=\"text-align: right;\">\n",
       "      <th></th>\n",
       "      <th>F1</th>\n",
       "      <th>F2</th>\n",
       "      <th>F3</th>\n",
       "      <th>F6</th>\n",
       "      <th>F7</th>\n",
       "      <th>F8</th>\n",
       "      <th>F9</th>\n",
       "      <th>F10</th>\n",
       "      <th>F11</th>\n",
       "      <th>F12</th>\n",
       "      <th>...</th>\n",
       "      <th>Target</th>\n",
       "      <th>F4_High</th>\n",
       "      <th>F4_Low</th>\n",
       "      <th>F4_Medium</th>\n",
       "      <th>F4_Very high</th>\n",
       "      <th>F4_Very low</th>\n",
       "      <th>F5_Europe</th>\n",
       "      <th>F5_Rest</th>\n",
       "      <th>F5_UK</th>\n",
       "      <th>F5_USA</th>\n",
       "    </tr>\n",
       "  </thead>\n",
       "  <tbody>\n",
       "    <tr>\n",
       "      <th>0</th>\n",
       "      <td>-39.37</td>\n",
       "      <td>4.22</td>\n",
       "      <td>-4.05</td>\n",
       "      <td>83.43</td>\n",
       "      <td>-209.02</td>\n",
       "      <td>101.94</td>\n",
       "      <td>-17.16</td>\n",
       "      <td>2</td>\n",
       "      <td>7.89</td>\n",
       "      <td>10</td>\n",
       "      <td>...</td>\n",
       "      <td>2307.406441</td>\n",
       "      <td>0</td>\n",
       "      <td>0</td>\n",
       "      <td>0</td>\n",
       "      <td>1</td>\n",
       "      <td>0</td>\n",
       "      <td>0</td>\n",
       "      <td>0</td>\n",
       "      <td>1</td>\n",
       "      <td>0</td>\n",
       "    </tr>\n",
       "    <tr>\n",
       "      <th>1</th>\n",
       "      <td>-39.37</td>\n",
       "      <td>7.72</td>\n",
       "      <td>-3.48</td>\n",
       "      <td>48.30</td>\n",
       "      <td>86.62</td>\n",
       "      <td>107.56</td>\n",
       "      <td>-11.00</td>\n",
       "      <td>18</td>\n",
       "      <td>1.86</td>\n",
       "      <td>10</td>\n",
       "      <td>...</td>\n",
       "      <td>942.096178</td>\n",
       "      <td>0</td>\n",
       "      <td>0</td>\n",
       "      <td>0</td>\n",
       "      <td>0</td>\n",
       "      <td>1</td>\n",
       "      <td>0</td>\n",
       "      <td>1</td>\n",
       "      <td>0</td>\n",
       "      <td>0</td>\n",
       "    </tr>\n",
       "    <tr>\n",
       "      <th>2</th>\n",
       "      <td>16.25</td>\n",
       "      <td>7.08</td>\n",
       "      <td>-5.31</td>\n",
       "      <td>1.98</td>\n",
       "      <td>-267.34</td>\n",
       "      <td>23.33</td>\n",
       "      <td>-14.66</td>\n",
       "      <td>8</td>\n",
       "      <td>25.92</td>\n",
       "      <td>6</td>\n",
       "      <td>...</td>\n",
       "      <td>614.390166</td>\n",
       "      <td>0</td>\n",
       "      <td>0</td>\n",
       "      <td>0</td>\n",
       "      <td>0</td>\n",
       "      <td>1</td>\n",
       "      <td>1</td>\n",
       "      <td>0</td>\n",
       "      <td>0</td>\n",
       "      <td>0</td>\n",
       "    </tr>\n",
       "    <tr>\n",
       "      <th>3</th>\n",
       "      <td>23.08</td>\n",
       "      <td>5.82</td>\n",
       "      <td>-5.91</td>\n",
       "      <td>11.49</td>\n",
       "      <td>-196.52</td>\n",
       "      <td>115.19</td>\n",
       "      <td>-12.14</td>\n",
       "      <td>2</td>\n",
       "      <td>12.87</td>\n",
       "      <td>0</td>\n",
       "      <td>...</td>\n",
       "      <td>1766.561205</td>\n",
       "      <td>0</td>\n",
       "      <td>0</td>\n",
       "      <td>0</td>\n",
       "      <td>0</td>\n",
       "      <td>1</td>\n",
       "      <td>0</td>\n",
       "      <td>0</td>\n",
       "      <td>1</td>\n",
       "      <td>0</td>\n",
       "    </tr>\n",
       "    <tr>\n",
       "      <th>4</th>\n",
       "      <td>-21.30</td>\n",
       "      <td>15.14</td>\n",
       "      <td>-4.02</td>\n",
       "      <td>0.60</td>\n",
       "      <td>-80.36</td>\n",
       "      <td>75.42</td>\n",
       "      <td>-8.86</td>\n",
       "      <td>10</td>\n",
       "      <td>4.26</td>\n",
       "      <td>8</td>\n",
       "      <td>...</td>\n",
       "      <td>679.423193</td>\n",
       "      <td>0</td>\n",
       "      <td>0</td>\n",
       "      <td>1</td>\n",
       "      <td>0</td>\n",
       "      <td>0</td>\n",
       "      <td>0</td>\n",
       "      <td>0</td>\n",
       "      <td>0</td>\n",
       "      <td>1</td>\n",
       "    </tr>\n",
       "  </tbody>\n",
       "</table>\n",
       "<p>5 rows × 24 columns</p>\n",
       "</div>"
      ],
      "text/plain": [
       "      F1     F2    F3     F6      F7      F8     F9  F10    F11  F12  ...  \\\n",
       "0 -39.37   4.22 -4.05  83.43 -209.02  101.94 -17.16    2   7.89   10  ...   \n",
       "1 -39.37   7.72 -3.48  48.30   86.62  107.56 -11.00   18   1.86   10  ...   \n",
       "2  16.25   7.08 -5.31   1.98 -267.34   23.33 -14.66    8  25.92    6  ...   \n",
       "3  23.08   5.82 -5.91  11.49 -196.52  115.19 -12.14    2  12.87    0  ...   \n",
       "4 -21.30  15.14 -4.02   0.60  -80.36   75.42  -8.86   10   4.26    8  ...   \n",
       "\n",
       "        Target  F4_High  F4_Low  F4_Medium  F4_Very high  F4_Very low  \\\n",
       "0  2307.406441        0       0          0             1            0   \n",
       "1   942.096178        0       0          0             0            1   \n",
       "2   614.390166        0       0          0             0            1   \n",
       "3  1766.561205        0       0          0             0            1   \n",
       "4   679.423193        0       0          1             0            0   \n",
       "\n",
       "   F5_Europe  F5_Rest  F5_UK  F5_USA  \n",
       "0          0        0      1       0  \n",
       "1          0        1      0       0  \n",
       "2          1        0      0       0  \n",
       "3          0        0      1       0  \n",
       "4          0        0      0       1  \n",
       "\n",
       "[5 rows x 24 columns]"
      ]
     },
     "execution_count": 12,
     "metadata": {},
     "output_type": "execute_result"
    }
   ],
   "source": [
    "# cheching hot encoded test data\n",
    "df_test.head()"
   ]
  },
  {
   "cell_type": "code",
   "execution_count": 13,
   "metadata": {},
   "outputs": [],
   "source": [
    "# setting Target column as last column in test set\n",
    "df_test = df_test[[c for c in df if c != 'Target'] + ['Target']]"
   ]
  },
  {
   "cell_type": "code",
   "execution_count": 14,
   "metadata": {},
   "outputs": [
    {
     "data": {
      "text/html": [
       "<div>\n",
       "<style scoped>\n",
       "    .dataframe tbody tr th:only-of-type {\n",
       "        vertical-align: middle;\n",
       "    }\n",
       "\n",
       "    .dataframe tbody tr th {\n",
       "        vertical-align: top;\n",
       "    }\n",
       "\n",
       "    .dataframe thead th {\n",
       "        text-align: right;\n",
       "    }\n",
       "</style>\n",
       "<table border=\"1\" class=\"dataframe\">\n",
       "  <thead>\n",
       "    <tr style=\"text-align: right;\">\n",
       "      <th></th>\n",
       "      <th>F1</th>\n",
       "      <th>F2</th>\n",
       "      <th>F3</th>\n",
       "      <th>F6</th>\n",
       "      <th>F7</th>\n",
       "      <th>F8</th>\n",
       "      <th>F9</th>\n",
       "      <th>F10</th>\n",
       "      <th>F11</th>\n",
       "      <th>F12</th>\n",
       "      <th>...</th>\n",
       "      <th>F4_High</th>\n",
       "      <th>F4_Low</th>\n",
       "      <th>F4_Medium</th>\n",
       "      <th>F4_Very high</th>\n",
       "      <th>F4_Very low</th>\n",
       "      <th>F5_Europe</th>\n",
       "      <th>F5_Rest</th>\n",
       "      <th>F5_UK</th>\n",
       "      <th>F5_USA</th>\n",
       "      <th>Target</th>\n",
       "    </tr>\n",
       "  </thead>\n",
       "  <tbody>\n",
       "    <tr>\n",
       "      <th>0</th>\n",
       "      <td>-39.37</td>\n",
       "      <td>4.22</td>\n",
       "      <td>-4.05</td>\n",
       "      <td>83.43</td>\n",
       "      <td>-209.02</td>\n",
       "      <td>101.94</td>\n",
       "      <td>-17.16</td>\n",
       "      <td>2</td>\n",
       "      <td>7.89</td>\n",
       "      <td>10</td>\n",
       "      <td>...</td>\n",
       "      <td>0</td>\n",
       "      <td>0</td>\n",
       "      <td>0</td>\n",
       "      <td>1</td>\n",
       "      <td>0</td>\n",
       "      <td>0</td>\n",
       "      <td>0</td>\n",
       "      <td>1</td>\n",
       "      <td>0</td>\n",
       "      <td>2307.406441</td>\n",
       "    </tr>\n",
       "    <tr>\n",
       "      <th>1</th>\n",
       "      <td>-39.37</td>\n",
       "      <td>7.72</td>\n",
       "      <td>-3.48</td>\n",
       "      <td>48.30</td>\n",
       "      <td>86.62</td>\n",
       "      <td>107.56</td>\n",
       "      <td>-11.00</td>\n",
       "      <td>18</td>\n",
       "      <td>1.86</td>\n",
       "      <td>10</td>\n",
       "      <td>...</td>\n",
       "      <td>0</td>\n",
       "      <td>0</td>\n",
       "      <td>0</td>\n",
       "      <td>0</td>\n",
       "      <td>1</td>\n",
       "      <td>0</td>\n",
       "      <td>1</td>\n",
       "      <td>0</td>\n",
       "      <td>0</td>\n",
       "      <td>942.096178</td>\n",
       "    </tr>\n",
       "    <tr>\n",
       "      <th>2</th>\n",
       "      <td>16.25</td>\n",
       "      <td>7.08</td>\n",
       "      <td>-5.31</td>\n",
       "      <td>1.98</td>\n",
       "      <td>-267.34</td>\n",
       "      <td>23.33</td>\n",
       "      <td>-14.66</td>\n",
       "      <td>8</td>\n",
       "      <td>25.92</td>\n",
       "      <td>6</td>\n",
       "      <td>...</td>\n",
       "      <td>0</td>\n",
       "      <td>0</td>\n",
       "      <td>0</td>\n",
       "      <td>0</td>\n",
       "      <td>1</td>\n",
       "      <td>1</td>\n",
       "      <td>0</td>\n",
       "      <td>0</td>\n",
       "      <td>0</td>\n",
       "      <td>614.390166</td>\n",
       "    </tr>\n",
       "    <tr>\n",
       "      <th>3</th>\n",
       "      <td>23.08</td>\n",
       "      <td>5.82</td>\n",
       "      <td>-5.91</td>\n",
       "      <td>11.49</td>\n",
       "      <td>-196.52</td>\n",
       "      <td>115.19</td>\n",
       "      <td>-12.14</td>\n",
       "      <td>2</td>\n",
       "      <td>12.87</td>\n",
       "      <td>0</td>\n",
       "      <td>...</td>\n",
       "      <td>0</td>\n",
       "      <td>0</td>\n",
       "      <td>0</td>\n",
       "      <td>0</td>\n",
       "      <td>1</td>\n",
       "      <td>0</td>\n",
       "      <td>0</td>\n",
       "      <td>1</td>\n",
       "      <td>0</td>\n",
       "      <td>1766.561205</td>\n",
       "    </tr>\n",
       "    <tr>\n",
       "      <th>4</th>\n",
       "      <td>-21.30</td>\n",
       "      <td>15.14</td>\n",
       "      <td>-4.02</td>\n",
       "      <td>0.60</td>\n",
       "      <td>-80.36</td>\n",
       "      <td>75.42</td>\n",
       "      <td>-8.86</td>\n",
       "      <td>10</td>\n",
       "      <td>4.26</td>\n",
       "      <td>8</td>\n",
       "      <td>...</td>\n",
       "      <td>0</td>\n",
       "      <td>0</td>\n",
       "      <td>1</td>\n",
       "      <td>0</td>\n",
       "      <td>0</td>\n",
       "      <td>0</td>\n",
       "      <td>0</td>\n",
       "      <td>0</td>\n",
       "      <td>1</td>\n",
       "      <td>679.423193</td>\n",
       "    </tr>\n",
       "  </tbody>\n",
       "</table>\n",
       "<p>5 rows × 24 columns</p>\n",
       "</div>"
      ],
      "text/plain": [
       "      F1     F2    F3     F6      F7      F8     F9  F10    F11  F12  ...  \\\n",
       "0 -39.37   4.22 -4.05  83.43 -209.02  101.94 -17.16    2   7.89   10  ...   \n",
       "1 -39.37   7.72 -3.48  48.30   86.62  107.56 -11.00   18   1.86   10  ...   \n",
       "2  16.25   7.08 -5.31   1.98 -267.34   23.33 -14.66    8  25.92    6  ...   \n",
       "3  23.08   5.82 -5.91  11.49 -196.52  115.19 -12.14    2  12.87    0  ...   \n",
       "4 -21.30  15.14 -4.02   0.60  -80.36   75.42  -8.86   10   4.26    8  ...   \n",
       "\n",
       "   F4_High  F4_Low  F4_Medium  F4_Very high  F4_Very low  F5_Europe  F5_Rest  \\\n",
       "0        0       0          0             1            0          0        0   \n",
       "1        0       0          0             0            1          0        1   \n",
       "2        0       0          0             0            1          1        0   \n",
       "3        0       0          0             0            1          0        0   \n",
       "4        0       0          1             0            0          0        0   \n",
       "\n",
       "   F5_UK  F5_USA       Target  \n",
       "0      1       0  2307.406441  \n",
       "1      0       0   942.096178  \n",
       "2      0       0   614.390166  \n",
       "3      1       0  1766.561205  \n",
       "4      0       1   679.423193  \n",
       "\n",
       "[5 rows x 24 columns]"
      ]
     },
     "execution_count": 14,
     "metadata": {},
     "output_type": "execute_result"
    }
   ],
   "source": [
    "df_test.head()"
   ]
  },
  {
   "cell_type": "code",
   "execution_count": 15,
   "metadata": {},
   "outputs": [],
   "source": [
    "# Normalising data\n",
    "from sklearn.preprocessing import MinMaxScaler\n",
    "Scaler = MinMaxScaler()\n",
    "data1 = Scaler.fit_transform(df)\n",
    "train_min = Scaler.data_min_[-1]\n",
    "train_range = Scaler.data_range_[-1]\n",
    "test_data_1 =Scaler.fit_transform(df_test)"
   ]
  },
  {
   "cell_type": "code",
   "execution_count": 16,
   "metadata": {},
   "outputs": [],
   "source": [
    "# dividing the data\n",
    "x = data1[:,:-1]      # features\n",
    "y = data1[:,-1]   #target\n",
    "# test set data division\n",
    "X_test_set = test_data_1[:,:-1] # features \n",
    "Y_test_set = test_data_1[:,-1]    # target"
   ]
  },
  {
   "cell_type": "code",
   "execution_count": 35,
   "metadata": {},
   "outputs": [],
   "source": [
    "# Train and Test split\n",
    "from sklearn.model_selection import train_test_split\n",
    "X_train, X_test, Y_train, Y_test = train_test_split(x, y, test_size=0.3, random_state=0)"
   ]
  },
  {
   "cell_type": "code",
   "execution_count": 37,
   "metadata": {},
   "outputs": [],
   "source": [
    "# Performance Evaluation Metric = R2 Score\n",
    "from sklearn.metrics import r2_score"
   ]
  },
  {
   "cell_type": "markdown",
   "metadata": {},
   "source": [
    "# Linear Regression"
   ]
  },
  {
   "cell_type": "code",
   "execution_count": 38,
   "metadata": {},
   "outputs": [],
   "source": [
    "from sklearn.linear_model import LinearRegression"
   ]
  },
  {
   "cell_type": "code",
   "execution_count": 47,
   "metadata": {},
   "outputs": [
    {
     "name": "stdout",
     "output_type": "stream",
     "text": [
      "Best Score: 0.7716964843303812\n",
      "Best Hyperparameters: {'fit_intercept': False, 'normalize': True}\n"
     ]
    }
   ],
   "source": [
    "# define model\n",
    "model = LinearRegression()\n",
    "# define Cross validation for evaluation\n",
    "cv = RepeatedKFold(n_splits=10, n_repeats=3, random_state=0)\n",
    "# define parameters\n",
    "space = dict()\n",
    "\n",
    "space['fit_intercept'] = [True, False]\n",
    "space['normalize'] = [True, False]\n",
    "# define GridSearch search\n",
    "search = GridSearchCV(model, space, n_jobs=-1, cv=cv)\n",
    "# fitting  search\n",
    "result = search.fit(X_train, Y_train)\n",
    "# summarize result\n",
    "print('Best Score: %s' % result.best_score_)\n",
    "print('Best Hyperparameters: %s' % result.best_params_)"
   ]
  },
  {
   "cell_type": "code",
   "execution_count": 39,
   "metadata": {},
   "outputs": [
    {
     "data": {
      "text/plain": [
       "LinearRegression(fit_intercept=False, normalize=True)"
      ]
     },
     "execution_count": 39,
     "metadata": {},
     "output_type": "execute_result"
    }
   ],
   "source": [
    "# Fitting Linear regression model for best hyper parameters\n",
    "model_linear_regression = LinearRegression(fit_intercept= False, normalize= True )\n",
    "model_linear_regression.fit(X_train,Y_train)"
   ]
  },
  {
   "cell_type": "code",
   "execution_count": 40,
   "metadata": {},
   "outputs": [],
   "source": [
    "# predicting from train set in Linear Regression\n",
    "Train_prediction_Linear = model_linear_regression.predict(X_train)"
   ]
  },
  {
   "cell_type": "code",
   "execution_count": 41,
   "metadata": {},
   "outputs": [
    {
     "name": "stdout",
     "output_type": "stream",
     "text": [
      "R2_Score for Training in Linear Regression 0.7868181893650947\n"
     ]
    }
   ],
   "source": [
    "# printing R2 score for train set in Linear Regression\n",
    "print('R2_Score for Training in Linear Regression',r2_score(Y_train,Train_prediction_Linear))"
   ]
  },
  {
   "cell_type": "code",
   "execution_count": 44,
   "metadata": {},
   "outputs": [],
   "source": [
    "# predicting from evaluation set in Linear Regression\n",
    "y_pred_linear_regression = model_linear_regression.predict(X_test)"
   ]
  },
  {
   "cell_type": "code",
   "execution_count": 45,
   "metadata": {},
   "outputs": [
    {
     "name": "stdout",
     "output_type": "stream",
     "text": [
      "R2_Score for Test set in Linear regression 79.7369126341785\n"
     ]
    }
   ],
   "source": [
    "# printing R2 score for evaluation set in Linear Regression\n",
    "print('R2_Score for Test set in Linear regression',r2_score(Y_test, y_pred_linear_regression)*100)\n"
   ]
  },
  {
   "cell_type": "markdown",
   "metadata": {},
   "source": [
    "# Support Vector Machine\n"
   ]
  },
  {
   "cell_type": "code",
   "execution_count": 60,
   "metadata": {},
   "outputs": [],
   "source": [
    "# define model Support Vector regressor\n",
    "from sklearn.svm import SVR\n",
    "SVModel = SVR()\n"
   ]
  },
  {
   "cell_type": "code",
   "execution_count": 61,
   "metadata": {},
   "outputs": [],
   "source": [
    "# parameters grid for Support vector regressor\n",
    "parm = {'kernel':('linear','poly','rbf','sigmoid'),\n",
    "       'C':[1,52,10],\n",
    "       'degree':[3,8],\n",
    "       'coef0':[0.001,10,0.5],\n",
    "       'gamma':('auto','scale')}"
   ]
  },
  {
   "cell_type": "code",
   "execution_count": 62,
   "metadata": {},
   "outputs": [
    {
     "data": {
      "text/plain": [
       "GridSearchCV(cv=RepeatedKFold(n_repeats=3, n_splits=10, random_state=None),\n",
       "             estimator=SVR(),\n",
       "             param_grid={'C': [1, 52, 10], 'coef0': [0.001, 10, 0.5],\n",
       "                         'degree': [3, 8], 'gamma': ('auto', 'scale'),\n",
       "                         'kernel': ('linear', 'poly', 'rbf', 'sigmoid')})"
      ]
     },
     "execution_count": 62,
     "metadata": {},
     "output_type": "execute_result"
    }
   ],
   "source": [
    "# hyper parameter tuning using Grid Search for SVM\n",
    "Grids = GridSearchCV(SVModel, parm, cv = RepeatedKFold(n_splits=10, n_repeats=3) )\n",
    "#fitting model for grid search in SVM\n",
    "Grids.fit(X_train,Y_train)"
   ]
  },
  {
   "cell_type": "code",
   "execution_count": 63,
   "metadata": {},
   "outputs": [
    {
     "data": {
      "text/plain": [
       "0.8741772234597438"
      ]
     },
     "execution_count": 63,
     "metadata": {},
     "output_type": "execute_result"
    }
   ],
   "source": [
    "# best Score from grid search for SVM\n",
    "Grids.best_score_"
   ]
  },
  {
   "cell_type": "code",
   "execution_count": 64,
   "metadata": {},
   "outputs": [
    {
     "data": {
      "text/plain": [
       "{'C': 52, 'coef0': 0.5, 'degree': 3, 'gamma': 'auto', 'kernel': 'poly'}"
      ]
     },
     "execution_count": 64,
     "metadata": {},
     "output_type": "execute_result"
    }
   ],
   "source": [
    "# Best Hyper parameters for the SVM model \n",
    "Grids.best_params_"
   ]
  },
  {
   "cell_type": "code",
   "execution_count": 65,
   "metadata": {},
   "outputs": [
    {
     "data": {
      "text/plain": [
       "SVR(C=52, coef0=0.5, gamma='auto', kernel='poly')"
      ]
     },
     "execution_count": 65,
     "metadata": {},
     "output_type": "execute_result"
    }
   ],
   "source": [
    "# fitting model with best parameters in SVM\n",
    "SVM_regression = SVR(C = 52, coef0 = 0.5, degree = 3, gamma = 'auto', kernel = 'poly')\n",
    "SVM_regression.fit(X_train,Y_train)"
   ]
  },
  {
   "cell_type": "code",
   "execution_count": 90,
   "metadata": {},
   "outputs": [],
   "source": [
    "# predicting from evaluation set in SVM\n",
    "y_pred_SVM_regression = SVM_regression.predict(X_test)"
   ]
  },
  {
   "cell_type": "code",
   "execution_count": 91,
   "metadata": {},
   "outputs": [
    {
     "name": "stdout",
     "output_type": "stream",
     "text": [
      "R2-Score for SVM :  87.53952123052262\n"
     ]
    }
   ],
   "source": [
    "# R2 Score for Evaluation in SVM\n",
    "print('R2-Score for SVM : ',r2_score(Y_test, y_pred_SVM_regression)*100)\n"
   ]
  },
  {
   "cell_type": "markdown",
   "metadata": {},
   "source": [
    "# K Nearest Neighbours"
   ]
  },
  {
   "cell_type": "code",
   "execution_count": 68,
   "metadata": {},
   "outputs": [],
   "source": [
    "# define model for KNN\n",
    "from sklearn.neighbors import KNeighborsRegressor\n",
    "Knn_model = KNeighborsRegressor()"
   ]
  },
  {
   "cell_type": "code",
   "execution_count": 69,
   "metadata": {},
   "outputs": [],
   "source": [
    "#Parameters grid for Knn\n",
    "param_grid = {'algorithm': ['ball_tree','kd_tree','brute'],\n",
    "             'leaf_size' : [2,4,6,8,10,12,14],\n",
    "             'n_neighbors': [3,5,7,9,11,13,15],\n",
    "             'weights': ['uniform','distance']} \n"
   ]
  },
  {
   "cell_type": "code",
   "execution_count": 71,
   "metadata": {},
   "outputs": [
    {
     "data": {
      "text/plain": [
       "GridSearchCV(cv=10, estimator=KNeighborsRegressor(),\n",
       "             param_grid={'algorithm': ['ball_tree', 'kd_tree', 'brute'],\n",
       "                         'leaf_size': [2, 4, 6, 8, 10, 12, 14],\n",
       "                         'n_neighbors': [3, 5, 7, 9, 11, 13, 15],\n",
       "                         'weights': ['uniform', 'distance']})"
      ]
     },
     "execution_count": 71,
     "metadata": {},
     "output_type": "execute_result"
    }
   ],
   "source": [
    "#Grid Search CV for hyper parameter tuining in KNN\n",
    "knn_grid_search=GridSearchCV(Knn_model,param_grid,cv=10)\n",
    "#Fitting model for grid Search in KNN\n",
    "knn_grid_search.fit(X_train,Y_train)\n"
   ]
  },
  {
   "cell_type": "code",
   "execution_count": 95,
   "metadata": {},
   "outputs": [
    {
     "data": {
      "text/plain": [
       "{'algorithm': 'ball_tree',\n",
       " 'leaf_size': 2,\n",
       " 'n_neighbors': 5,\n",
       " 'weights': 'distance'}"
      ]
     },
     "execution_count": 95,
     "metadata": {},
     "output_type": "execute_result"
    }
   ],
   "source": [
    "# Best Parms for KNN \n",
    "knn_grid_search.best_params_"
   ]
  },
  {
   "cell_type": "code",
   "execution_count": 101,
   "metadata": {},
   "outputs": [
    {
     "data": {
      "text/plain": [
       "0.5020891335183902"
      ]
     },
     "execution_count": 101,
     "metadata": {},
     "output_type": "execute_result"
    }
   ],
   "source": [
    "# Best score for KNN\n",
    "knn_grid_search.best_score_"
   ]
  },
  {
   "cell_type": "code",
   "execution_count": 98,
   "metadata": {},
   "outputs": [
    {
     "data": {
      "text/plain": [
       "KNeighborsRegressor(algorithm='ball_tree', leaf_size=2, weights='distance')"
      ]
     },
     "execution_count": 98,
     "metadata": {},
     "output_type": "execute_result"
    }
   ],
   "source": [
    "# Fitting knn model for best params\n",
    "KNN_regressor = KNeighborsRegressor(algorithm = 'ball_tree', leaf_size = 2, n_neighbors = 5, weights = 'distance')\n",
    "KNN_regressor.fit(X_train,Y_train)"
   ]
  },
  {
   "cell_type": "code",
   "execution_count": 99,
   "metadata": {},
   "outputs": [],
   "source": [
    "# predicting from evaluation set in KNN\n",
    "y_pred_knn = KNN_regressor.predict(X_test)"
   ]
  },
  {
   "cell_type": "code",
   "execution_count": 100,
   "metadata": {},
   "outputs": [
    {
     "name": "stdout",
     "output_type": "stream",
     "text": [
      "R2 Score for evaluation in KNN 52.529914660351906\n"
     ]
    }
   ],
   "source": [
    "# R2 Score for evaluation set in KNN\n",
    "print('R2 Score for evaluation in KNN',r2_score(Y_test, y_pred_knn)*100)\n"
   ]
  },
  {
   "cell_type": "markdown",
   "metadata": {},
   "source": [
    "# Random Forest"
   ]
  },
  {
   "cell_type": "code",
   "execution_count": 75,
   "metadata": {},
   "outputs": [],
   "source": [
    "# define model for Random Forest\n",
    "from sklearn.ensemble import RandomForestRegressor\n",
    "regr = RandomForestRegressor()"
   ]
  },
  {
   "cell_type": "code",
   "execution_count": 77,
   "metadata": {},
   "outputs": [],
   "source": [
    "# Hyper parameters for grid search\n",
    "grid_random = {'n_estimators':[1,2,3,4,5,6,7,8,9,10],\n",
    "               'criterion' : [\"mse\", \"mae\"],\n",
    "               'max_features':['auto', 'sqrt', 'log2'],\n",
    "               \n",
    "              }"
   ]
  },
  {
   "cell_type": "code",
   "execution_count": 78,
   "metadata": {},
   "outputs": [],
   "source": [
    "# Cross validation set\n",
    "cvr = RepeatedKFold(n_splits=10, n_repeats=3, random_state=1)\n"
   ]
  },
  {
   "cell_type": "code",
   "execution_count": 94,
   "metadata": {},
   "outputs": [
    {
     "data": {
      "text/plain": [
       "GridSearchCV(cv=RepeatedKFold(n_repeats=3, n_splits=10, random_state=1),\n",
       "             estimator=RandomForestRegressor(), n_jobs=-1,\n",
       "             param_grid={'criterion': ['mse', 'mae'],\n",
       "                         'max_features': ['auto', 'sqrt', 'log2'],\n",
       "                         'n_estimators': [1, 2, 3, 4, 5, 6, 7, 8, 9, 10]})"
      ]
     },
     "execution_count": 94,
     "metadata": {},
     "output_type": "execute_result"
    }
   ],
   "source": [
    "# Grid search for Random Forest\n",
    "searchr = GridSearchCV(regr,grid_random , n_jobs=-1, cv=cvr)\n",
    "# fitting model for Grid Search\n",
    "searchr.fit(X_train,Y_train)"
   ]
  },
  {
   "cell_type": "code",
   "execution_count": 82,
   "metadata": {},
   "outputs": [
    {
     "data": {
      "text/plain": [
       "{'criterion': 'mse', 'max_features': 'auto', 'n_estimators': 9}"
      ]
     },
     "execution_count": 82,
     "metadata": {},
     "output_type": "execute_result"
    }
   ],
   "source": [
    "# best parameters for Random Forest model\n",
    "searchr.best_params_"
   ]
  },
  {
   "cell_type": "code",
   "execution_count": 83,
   "metadata": {},
   "outputs": [
    {
     "data": {
      "text/plain": [
       "0.6249245308845696"
      ]
     },
     "execution_count": 83,
     "metadata": {},
     "output_type": "execute_result"
    }
   ],
   "source": [
    "# best score from grid search\n",
    "searchr.best_score_"
   ]
  },
  {
   "cell_type": "code",
   "execution_count": 105,
   "metadata": {},
   "outputs": [
    {
     "data": {
      "text/plain": [
       "RandomForestRegressor(n_estimators=9)"
      ]
     },
     "execution_count": 105,
     "metadata": {},
     "output_type": "execute_result"
    }
   ],
   "source": [
    "# Fitting  Random Forest model with best parameeters\n",
    "Random_forest = RandomForestRegressor(criterion = 'mse', max_features = 'auto', n_estimators = 9)\n",
    "Random_forest.fit(X_train,Y_train)"
   ]
  },
  {
   "cell_type": "code",
   "execution_count": 86,
   "metadata": {},
   "outputs": [],
   "source": [
    "# Predicting from Evaluation set in Random Forest\n",
    "Random_forest_predictions = Random_forest.predict(X_test)"
   ]
  },
  {
   "cell_type": "code",
   "execution_count": 106,
   "metadata": {},
   "outputs": [
    {
     "name": "stdout",
     "output_type": "stream",
     "text": [
      "R2 Score for Random Forest Regressor :  62.79849067294685\n"
     ]
    }
   ],
   "source": [
    "# R2 Score for Evaluation in Random Forest\n",
    "print(\"R2 Score for Random Forest Regressor : \",r2_score(Y_test,Random_forest_predictions )*100)"
   ]
  },
  {
   "cell_type": "markdown",
   "metadata": {},
   "source": [
    "### Prediction on a hold out Test Set Values from the best model"
   ]
  },
  {
   "cell_type": "code",
   "execution_count": 109,
   "metadata": {},
   "outputs": [],
   "source": [
    "# predicting from SVM model\n",
    "Test_predictions = SVM_regression.predict(X_test_set)"
   ]
  },
  {
   "cell_type": "code",
   "execution_count": 110,
   "metadata": {},
   "outputs": [],
   "source": [
    "# Scale back target\n",
    "Test_predictions_target = Test_predictions *train_range + train_min \n"
   ]
  },
  {
   "cell_type": "code",
   "execution_count": null,
   "metadata": {},
   "outputs": [],
   "source": []
  },
  {
   "cell_type": "code",
   "execution_count": 146,
   "metadata": {},
   "outputs": [],
   "source": [
    "# Converting array to series\n",
    "Predictions_deployment = pd.Series(Test_predictions_target)"
   ]
  },
  {
   "cell_type": "code",
   "execution_count": 147,
   "metadata": {},
   "outputs": [],
   "source": [
    "Predictions_deployment[Predictions_deployment < 1] = 0"
   ]
  },
  {
   "cell_type": "code",
   "execution_count": 148,
   "metadata": {},
   "outputs": [],
   "source": [
    "# Replacing Target Values with predicted targets\n",
    "test[\"Target\"] = Predictions_deployment"
   ]
  },
  {
   "cell_type": "code",
   "execution_count": 149,
   "metadata": {},
   "outputs": [
    {
     "data": {
      "text/html": [
       "<div>\n",
       "<style scoped>\n",
       "    .dataframe tbody tr th:only-of-type {\n",
       "        vertical-align: middle;\n",
       "    }\n",
       "\n",
       "    .dataframe tbody tr th {\n",
       "        vertical-align: top;\n",
       "    }\n",
       "\n",
       "    .dataframe thead th {\n",
       "        text-align: right;\n",
       "    }\n",
       "</style>\n",
       "<table border=\"1\" class=\"dataframe\">\n",
       "  <thead>\n",
       "    <tr style=\"text-align: right;\">\n",
       "      <th></th>\n",
       "      <th>F1</th>\n",
       "      <th>F2</th>\n",
       "      <th>F3</th>\n",
       "      <th>F4</th>\n",
       "      <th>F5</th>\n",
       "      <th>F6</th>\n",
       "      <th>F7</th>\n",
       "      <th>F8</th>\n",
       "      <th>F9</th>\n",
       "      <th>F10</th>\n",
       "      <th>F11</th>\n",
       "      <th>F12</th>\n",
       "      <th>F13</th>\n",
       "      <th>F14</th>\n",
       "      <th>F15</th>\n",
       "      <th>F16</th>\n",
       "      <th>Target</th>\n",
       "    </tr>\n",
       "  </thead>\n",
       "  <tbody>\n",
       "    <tr>\n",
       "      <th>0</th>\n",
       "      <td>-39.37</td>\n",
       "      <td>4.22</td>\n",
       "      <td>-4.05</td>\n",
       "      <td>Very high</td>\n",
       "      <td>UK</td>\n",
       "      <td>83.43</td>\n",
       "      <td>-209.02</td>\n",
       "      <td>101.94</td>\n",
       "      <td>-17.16</td>\n",
       "      <td>2</td>\n",
       "      <td>7.89</td>\n",
       "      <td>10</td>\n",
       "      <td>2373.57</td>\n",
       "      <td>13.11</td>\n",
       "      <td>30843.16</td>\n",
       "      <td>-962.72</td>\n",
       "      <td>2307.406441</td>\n",
       "    </tr>\n",
       "    <tr>\n",
       "      <th>1</th>\n",
       "      <td>-39.37</td>\n",
       "      <td>7.72</td>\n",
       "      <td>-3.48</td>\n",
       "      <td>Very low</td>\n",
       "      <td>Rest</td>\n",
       "      <td>48.30</td>\n",
       "      <td>86.62</td>\n",
       "      <td>107.56</td>\n",
       "      <td>-11.00</td>\n",
       "      <td>18</td>\n",
       "      <td>1.86</td>\n",
       "      <td>10</td>\n",
       "      <td>1475.76</td>\n",
       "      <td>11.71</td>\n",
       "      <td>15657.13</td>\n",
       "      <td>-305.24</td>\n",
       "      <td>942.096178</td>\n",
       "    </tr>\n",
       "    <tr>\n",
       "      <th>2</th>\n",
       "      <td>16.25</td>\n",
       "      <td>7.08</td>\n",
       "      <td>-5.31</td>\n",
       "      <td>Very low</td>\n",
       "      <td>Europe</td>\n",
       "      <td>1.98</td>\n",
       "      <td>-267.34</td>\n",
       "      <td>23.33</td>\n",
       "      <td>-14.66</td>\n",
       "      <td>8</td>\n",
       "      <td>25.92</td>\n",
       "      <td>6</td>\n",
       "      <td>192.93</td>\n",
       "      <td>17.60</td>\n",
       "      <td>10765.05</td>\n",
       "      <td>-857.16</td>\n",
       "      <td>614.390166</td>\n",
       "    </tr>\n",
       "    <tr>\n",
       "      <th>3</th>\n",
       "      <td>23.08</td>\n",
       "      <td>5.82</td>\n",
       "      <td>-5.91</td>\n",
       "      <td>Very low</td>\n",
       "      <td>UK</td>\n",
       "      <td>11.49</td>\n",
       "      <td>-196.52</td>\n",
       "      <td>115.19</td>\n",
       "      <td>-12.14</td>\n",
       "      <td>2</td>\n",
       "      <td>12.87</td>\n",
       "      <td>0</td>\n",
       "      <td>2779.23</td>\n",
       "      <td>13.59</td>\n",
       "      <td>14778.80</td>\n",
       "      <td>-798.06</td>\n",
       "      <td>1766.561205</td>\n",
       "    </tr>\n",
       "    <tr>\n",
       "      <th>4</th>\n",
       "      <td>-21.30</td>\n",
       "      <td>15.14</td>\n",
       "      <td>-4.02</td>\n",
       "      <td>Medium</td>\n",
       "      <td>USA</td>\n",
       "      <td>0.60</td>\n",
       "      <td>-80.36</td>\n",
       "      <td>75.42</td>\n",
       "      <td>-8.86</td>\n",
       "      <td>10</td>\n",
       "      <td>4.26</td>\n",
       "      <td>8</td>\n",
       "      <td>-441.42</td>\n",
       "      <td>13.62</td>\n",
       "      <td>16328.25</td>\n",
       "      <td>-832.93</td>\n",
       "      <td>679.423193</td>\n",
       "    </tr>\n",
       "  </tbody>\n",
       "</table>\n",
       "</div>"
      ],
      "text/plain": [
       "      F1     F2    F3         F4      F5     F6      F7      F8     F9  F10  \\\n",
       "0 -39.37   4.22 -4.05  Very high      UK  83.43 -209.02  101.94 -17.16    2   \n",
       "1 -39.37   7.72 -3.48   Very low    Rest  48.30   86.62  107.56 -11.00   18   \n",
       "2  16.25   7.08 -5.31   Very low  Europe   1.98 -267.34   23.33 -14.66    8   \n",
       "3  23.08   5.82 -5.91   Very low      UK  11.49 -196.52  115.19 -12.14    2   \n",
       "4 -21.30  15.14 -4.02     Medium     USA   0.60  -80.36   75.42  -8.86   10   \n",
       "\n",
       "     F11  F12      F13    F14       F15     F16       Target  \n",
       "0   7.89   10  2373.57  13.11  30843.16 -962.72  2307.406441  \n",
       "1   1.86   10  1475.76  11.71  15657.13 -305.24   942.096178  \n",
       "2  25.92    6   192.93  17.60  10765.05 -857.16   614.390166  \n",
       "3  12.87    0  2779.23  13.59  14778.80 -798.06  1766.561205  \n",
       "4   4.26    8  -441.42  13.62  16328.25 -832.93   679.423193  "
      ]
     },
     "execution_count": 149,
     "metadata": {},
     "output_type": "execute_result"
    }
   ],
   "source": [
    "test.head()"
   ]
  },
  {
   "cell_type": "code",
   "execution_count": 150,
   "metadata": {},
   "outputs": [],
   "source": [
    "# Converting To CSV file\n",
    "test.to_csv('CE802_P3_Test.csv',index = False)"
   ]
  },
  {
   "cell_type": "code",
   "execution_count": null,
   "metadata": {},
   "outputs": [],
   "source": []
  }
 ],
 "metadata": {
  "kernelspec": {
   "display_name": "Python 3",
   "language": "python",
   "name": "python3"
  },
  "language_info": {
   "codemirror_mode": {
    "name": "ipython",
    "version": 3
   },
   "file_extension": ".py",
   "mimetype": "text/x-python",
   "name": "python",
   "nbconvert_exporter": "python",
   "pygments_lexer": "ipython3",
   "version": "3.8.5"
  }
 },
 "nbformat": 4,
 "nbformat_minor": 4
}
