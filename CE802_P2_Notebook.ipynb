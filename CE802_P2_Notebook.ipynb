{
 "cells": [
  {
   "cell_type": "markdown",
   "metadata": {},
   "source": [
    "# Comparative study Part -2\n"
   ]
  },
  {
   "cell_type": "code",
   "execution_count": 1,
   "metadata": {},
   "outputs": [],
   "source": [
    "import pandas as pd\n",
    "\n",
    "import numpy as np\n",
    "\n",
    "import missingno as msno\n",
    "\n",
    "\n",
    "from sklearn.model_selection import GridSearchCV\n",
    "\n",
    "from sklearn.model_selection import StratifiedKFold\n",
    "\n",
    "from sklearn.metrics import accuracy_score\n",
    "\n",
    "from sklearn.metrics import classification_report, confusion_matrix\n",
    "\n",
    "import warnings\n",
    "\n",
    "warnings.filterwarnings('ignore')\n"
   ]
  },
  {
   "cell_type": "code",
   "execution_count": 2,
   "metadata": {},
   "outputs": [],
   "source": [
    "# loading data \n",
    "data = pd.read_csv('CE802_P2_Data.csv')\n",
    "test_data = pd.read_csv('CE802_P2_Test.csv')"
   ]
  },
  {
   "cell_type": "code",
   "execution_count": 3,
   "metadata": {},
   "outputs": [
    {
     "data": {
      "text/plain": [
       "<AxesSubplot:>"
      ]
     },
     "execution_count": 3,
     "metadata": {},
     "output_type": "execute_result"
    },
    {
     "data": {
      "image/png": "[encoded data removed]",
      "text/plain": [
       "<Figure size 720x360 with 2 Axes>"
      ]
     },
     "metadata": {
      "needs_background": "light"
     },
     "output_type": "display_data"
    }
   ],
   "source": [
    "msno.matrix(data,figsize=(10,5))"
   ]
  },
  {
   "cell_type": "code",
   "execution_count": 4,
   "metadata": {},
   "outputs": [
    {
     "data": {
      "text/html": [
       "<div>\n",
       "<style scoped>\n",
       "    .dataframe tbody tr th:only-of-type {\n",
       "        vertical-align: middle;\n",
       "    }\n",
       "\n",
       "    .dataframe tbody tr th {\n",
       "        vertical-align: top;\n",
       "    }\n",
       "\n",
       "    .dataframe thead th {\n",
       "        text-align: right;\n",
       "    }\n",
       "</style>\n",
       "<table border=\"1\" class=\"dataframe\">\n",
       "  <thead>\n",
       "    <tr style=\"text-align: right;\">\n",
       "      <th></th>\n",
       "      <th>F1</th>\n",
       "      <th>F2</th>\n",
       "      <th>F3</th>\n",
       "      <th>F4</th>\n",
       "      <th>F5</th>\n",
       "      <th>F6</th>\n",
       "      <th>F7</th>\n",
       "      <th>F8</th>\n",
       "      <th>F9</th>\n",
       "      <th>F10</th>\n",
       "      <th>F11</th>\n",
       "      <th>F12</th>\n",
       "      <th>F13</th>\n",
       "      <th>F14</th>\n",
       "      <th>F15</th>\n",
       "      <th>Class</th>\n",
       "    </tr>\n",
       "  </thead>\n",
       "  <tbody>\n",
       "    <tr>\n",
       "      <th>0</th>\n",
       "      <td>-1</td>\n",
       "      <td>45</td>\n",
       "      <td>-7.97</td>\n",
       "      <td>0.54</td>\n",
       "      <td>3</td>\n",
       "      <td>0.50</td>\n",
       "      <td>-113.34</td>\n",
       "      <td>20.30</td>\n",
       "      <td>9.99</td>\n",
       "      <td>20.50</td>\n",
       "      <td>-5.52</td>\n",
       "      <td>3.60</td>\n",
       "      <td>-466.22</td>\n",
       "      <td>1.88</td>\n",
       "      <td>-7.49</td>\n",
       "      <td>True</td>\n",
       "    </tr>\n",
       "    <tr>\n",
       "      <th>1</th>\n",
       "      <td>1</td>\n",
       "      <td>27</td>\n",
       "      <td>-7.02</td>\n",
       "      <td>1.08</td>\n",
       "      <td>3</td>\n",
       "      <td>0.85</td>\n",
       "      <td>-47.34</td>\n",
       "      <td>20.00</td>\n",
       "      <td>2.88</td>\n",
       "      <td>19.40</td>\n",
       "      <td>-6.49</td>\n",
       "      <td>1.22</td>\n",
       "      <td>-470.22</td>\n",
       "      <td>0.57</td>\n",
       "      <td>NaN</td>\n",
       "      <td>True</td>\n",
       "    </tr>\n",
       "    <tr>\n",
       "      <th>2</th>\n",
       "      <td>-2</td>\n",
       "      <td>0</td>\n",
       "      <td>-8.82</td>\n",
       "      <td>0.56</td>\n",
       "      <td>3</td>\n",
       "      <td>0.45</td>\n",
       "      <td>-152.34</td>\n",
       "      <td>19.62</td>\n",
       "      <td>9.78</td>\n",
       "      <td>20.74</td>\n",
       "      <td>-5.21</td>\n",
       "      <td>2.08</td>\n",
       "      <td>-534.22</td>\n",
       "      <td>5.62</td>\n",
       "      <td>-5.74</td>\n",
       "      <td>False</td>\n",
       "    </tr>\n",
       "    <tr>\n",
       "      <th>3</th>\n",
       "      <td>-14</td>\n",
       "      <td>855</td>\n",
       "      <td>-3.23</td>\n",
       "      <td>12.00</td>\n",
       "      <td>30</td>\n",
       "      <td>7.45</td>\n",
       "      <td>-341.34</td>\n",
       "      <td>34.76</td>\n",
       "      <td>-10.14</td>\n",
       "      <td>14.38</td>\n",
       "      <td>-4.79</td>\n",
       "      <td>-2.52</td>\n",
       "      <td>-846.22</td>\n",
       "      <td>-4.17</td>\n",
       "      <td>NaN</td>\n",
       "      <td>True</td>\n",
       "    </tr>\n",
       "    <tr>\n",
       "      <th>4</th>\n",
       "      <td>-1</td>\n",
       "      <td>39</td>\n",
       "      <td>-8.12</td>\n",
       "      <td>2.88</td>\n",
       "      <td>3</td>\n",
       "      <td>0.76</td>\n",
       "      <td>-53.34</td>\n",
       "      <td>19.08</td>\n",
       "      <td>6.48</td>\n",
       "      <td>22.58</td>\n",
       "      <td>-7.52</td>\n",
       "      <td>1.24</td>\n",
       "      <td>-512.22</td>\n",
       "      <td>2.17</td>\n",
       "      <td>NaN</td>\n",
       "      <td>False</td>\n",
       "    </tr>\n",
       "  </tbody>\n",
       "</table>\n",
       "</div>"
      ],
      "text/plain": [
       "   F1   F2    F3     F4  F5    F6      F7     F8     F9    F10   F11   F12  \\\n",
       "0  -1   45 -7.97   0.54   3  0.50 -113.34  20.30   9.99  20.50 -5.52  3.60   \n",
       "1   1   27 -7.02   1.08   3  0.85  -47.34  20.00   2.88  19.40 -6.49  1.22   \n",
       "2  -2    0 -8.82   0.56   3  0.45 -152.34  19.62   9.78  20.74 -5.21  2.08   \n",
       "3 -14  855 -3.23  12.00  30  7.45 -341.34  34.76 -10.14  14.38 -4.79 -2.52   \n",
       "4  -1   39 -8.12   2.88   3  0.76  -53.34  19.08   6.48  22.58 -7.52  1.24   \n",
       "\n",
       "      F13   F14   F15  Class  \n",
       "0 -466.22  1.88 -7.49   True  \n",
       "1 -470.22  0.57   NaN   True  \n",
       "2 -534.22  5.62 -5.74  False  \n",
       "3 -846.22 -4.17   NaN   True  \n",
       "4 -512.22  2.17   NaN  False  "
      ]
     },
     "execution_count": 4,
     "metadata": {},
     "output_type": "execute_result"
    }
   ],
   "source": [
    "data.head()"
   ]
  },
  {
   "cell_type": "code",
   "execution_count": 5,
   "metadata": {},
   "outputs": [
    {
     "data": {
      "text/html": [
       "<div>\n",
       "<style scoped>\n",
       "    .dataframe tbody tr th:only-of-type {\n",
       "        vertical-align: middle;\n",
       "    }\n",
       "\n",
       "    .dataframe tbody tr th {\n",
       "        vertical-align: top;\n",
       "    }\n",
       "\n",
       "    .dataframe thead th {\n",
       "        text-align: right;\n",
       "    }\n",
       "</style>\n",
       "<table border=\"1\" class=\"dataframe\">\n",
       "  <thead>\n",
       "    <tr style=\"text-align: right;\">\n",
       "      <th></th>\n",
       "      <th>F1</th>\n",
       "      <th>F2</th>\n",
       "      <th>F3</th>\n",
       "      <th>F4</th>\n",
       "      <th>F5</th>\n",
       "      <th>F6</th>\n",
       "      <th>F7</th>\n",
       "      <th>F8</th>\n",
       "      <th>F9</th>\n",
       "      <th>F10</th>\n",
       "      <th>F11</th>\n",
       "      <th>F12</th>\n",
       "      <th>F13</th>\n",
       "      <th>F14</th>\n",
       "      <th>F15</th>\n",
       "    </tr>\n",
       "  </thead>\n",
       "  <tbody>\n",
       "    <tr>\n",
       "      <th>count</th>\n",
       "      <td>1500.000000</td>\n",
       "      <td>1500.00000</td>\n",
       "      <td>1500.000000</td>\n",
       "      <td>1500.00000</td>\n",
       "      <td>1500.00000</td>\n",
       "      <td>1500.000000</td>\n",
       "      <td>1500.000000</td>\n",
       "      <td>1500.000000</td>\n",
       "      <td>1500.000000</td>\n",
       "      <td>1500.000000</td>\n",
       "      <td>1500.000000</td>\n",
       "      <td>1500.000000</td>\n",
       "      <td>1500.000000</td>\n",
       "      <td>1500.000000</td>\n",
       "      <td>750.000000</td>\n",
       "    </tr>\n",
       "    <tr>\n",
       "      <th>mean</th>\n",
       "      <td>-6.638000</td>\n",
       "      <td>327.07400</td>\n",
       "      <td>-5.583260</td>\n",
       "      <td>9.93752</td>\n",
       "      <td>16.21000</td>\n",
       "      <td>3.854280</td>\n",
       "      <td>-88.098000</td>\n",
       "      <td>26.035627</td>\n",
       "      <td>0.224600</td>\n",
       "      <td>16.934107</td>\n",
       "      <td>-6.072353</td>\n",
       "      <td>-2.524933</td>\n",
       "      <td>-605.110667</td>\n",
       "      <td>-0.361213</td>\n",
       "      <td>-7.043013</td>\n",
       "    </tr>\n",
       "    <tr>\n",
       "      <th>std</th>\n",
       "      <td>7.159315</td>\n",
       "      <td>352.00374</td>\n",
       "      <td>2.554271</td>\n",
       "      <td>8.65042</td>\n",
       "      <td>13.51472</td>\n",
       "      <td>3.465276</td>\n",
       "      <td>120.565344</td>\n",
       "      <td>6.333818</td>\n",
       "      <td>7.635517</td>\n",
       "      <td>5.027699</td>\n",
       "      <td>1.108964</td>\n",
       "      <td>4.982472</td>\n",
       "      <td>142.833748</td>\n",
       "      <td>2.540644</td>\n",
       "      <td>1.005117</td>\n",
       "    </tr>\n",
       "    <tr>\n",
       "      <th>min</th>\n",
       "      <td>-24.000000</td>\n",
       "      <td>0.00000</td>\n",
       "      <td>-13.980000</td>\n",
       "      <td>0.00000</td>\n",
       "      <td>0.00000</td>\n",
       "      <td>0.000000</td>\n",
       "      <td>-431.340000</td>\n",
       "      <td>18.660000</td>\n",
       "      <td>-13.470000</td>\n",
       "      <td>7.980000</td>\n",
       "      <td>-10.310000</td>\n",
       "      <td>-11.540000</td>\n",
       "      <td>-936.220000</td>\n",
       "      <td>-5.020000</td>\n",
       "      <td>-9.400000</td>\n",
       "    </tr>\n",
       "    <tr>\n",
       "      <th>25%</th>\n",
       "      <td>-14.000000</td>\n",
       "      <td>45.00000</td>\n",
       "      <td>-7.480000</td>\n",
       "      <td>2.48000</td>\n",
       "      <td>3.00000</td>\n",
       "      <td>0.600000</td>\n",
       "      <td>-143.340000</td>\n",
       "      <td>20.100000</td>\n",
       "      <td>-7.140000</td>\n",
       "      <td>12.120000</td>\n",
       "      <td>-6.650000</td>\n",
       "      <td>-7.280000</td>\n",
       "      <td>-726.220000</td>\n",
       "      <td>-2.840000</td>\n",
       "      <td>-7.790000</td>\n",
       "    </tr>\n",
       "    <tr>\n",
       "      <th>50%</th>\n",
       "      <td>-3.000000</td>\n",
       "      <td>150.00000</td>\n",
       "      <td>-6.580000</td>\n",
       "      <td>4.14000</td>\n",
       "      <td>3.00000</td>\n",
       "      <td>1.020000</td>\n",
       "      <td>-104.340000</td>\n",
       "      <td>20.820000</td>\n",
       "      <td>3.195000</td>\n",
       "      <td>18.900000</td>\n",
       "      <td>-5.920000</td>\n",
       "      <td>-0.620000</td>\n",
       "      <td>-534.220000</td>\n",
       "      <td>0.620000</td>\n",
       "      <td>-7.050000</td>\n",
       "    </tr>\n",
       "    <tr>\n",
       "      <th>75%</th>\n",
       "      <td>-1.000000</td>\n",
       "      <td>585.00000</td>\n",
       "      <td>-3.087500</td>\n",
       "      <td>16.40000</td>\n",
       "      <td>30.00000</td>\n",
       "      <td>7.050000</td>\n",
       "      <td>-41.340000</td>\n",
       "      <td>31.560000</td>\n",
       "      <td>5.880000</td>\n",
       "      <td>20.820000</td>\n",
       "      <td>-5.420000</td>\n",
       "      <td>1.145000</td>\n",
       "      <td>-494.220000</td>\n",
       "      <td>1.520000</td>\n",
       "      <td>-6.322500</td>\n",
       "    </tr>\n",
       "    <tr>\n",
       "      <th>max</th>\n",
       "      <td>2.000000</td>\n",
       "      <td>1170.00000</td>\n",
       "      <td>-1.110000</td>\n",
       "      <td>31.40000</td>\n",
       "      <td>30.00000</td>\n",
       "      <td>10.350000</td>\n",
       "      <td>213.660000</td>\n",
       "      <td>38.960000</td>\n",
       "      <td>25.320000</td>\n",
       "      <td>32.260000</td>\n",
       "      <td>-3.710000</td>\n",
       "      <td>12.940000</td>\n",
       "      <td>-446.220000</td>\n",
       "      <td>8.670000</td>\n",
       "      <td>-4.320000</td>\n",
       "    </tr>\n",
       "  </tbody>\n",
       "</table>\n",
       "</div>"
      ],
      "text/plain": [
       "                F1          F2           F3          F4          F5  \\\n",
       "count  1500.000000  1500.00000  1500.000000  1500.00000  1500.00000   \n",
       "mean     -6.638000   327.07400    -5.583260     9.93752    16.21000   \n",
       "std       7.159315   352.00374     2.554271     8.65042    13.51472   \n",
       "min     -24.000000     0.00000   -13.980000     0.00000     0.00000   \n",
       "25%     -14.000000    45.00000    -7.480000     2.48000     3.00000   \n",
       "50%      -3.000000   150.00000    -6.580000     4.14000     3.00000   \n",
       "75%      -1.000000   585.00000    -3.087500    16.40000    30.00000   \n",
       "max       2.000000  1170.00000    -1.110000    31.40000    30.00000   \n",
       "\n",
       "                F6           F7           F8           F9          F10  \\\n",
       "count  1500.000000  1500.000000  1500.000000  1500.000000  1500.000000   \n",
       "mean      3.854280   -88.098000    26.035627     0.224600    16.934107   \n",
       "std       3.465276   120.565344     6.333818     7.635517     5.027699   \n",
       "min       0.000000  -431.340000    18.660000   -13.470000     7.980000   \n",
       "25%       0.600000  -143.340000    20.100000    -7.140000    12.120000   \n",
       "50%       1.020000  -104.340000    20.820000     3.195000    18.900000   \n",
       "75%       7.050000   -41.340000    31.560000     5.880000    20.820000   \n",
       "max      10.350000   213.660000    38.960000    25.320000    32.260000   \n",
       "\n",
       "               F11          F12          F13          F14         F15  \n",
       "count  1500.000000  1500.000000  1500.000000  1500.000000  750.000000  \n",
       "mean     -6.072353    -2.524933  -605.110667    -0.361213   -7.043013  \n",
       "std       1.108964     4.982472   142.833748     2.540644    1.005117  \n",
       "min     -10.310000   -11.540000  -936.220000    -5.020000   -9.400000  \n",
       "25%      -6.650000    -7.280000  -726.220000    -2.840000   -7.790000  \n",
       "50%      -5.920000    -0.620000  -534.220000     0.620000   -7.050000  \n",
       "75%      -5.420000     1.145000  -494.220000     1.520000   -6.322500  \n",
       "max      -3.710000    12.940000  -446.220000     8.670000   -4.320000  "
      ]
     },
     "execution_count": 5,
     "metadata": {},
     "output_type": "execute_result"
    }
   ],
   "source": [
    "# Describing the data\n",
    "data.describe()"
   ]
  },
  {
   "cell_type": "code",
   "execution_count": 6,
   "metadata": {},
   "outputs": [
    {
     "data": {
      "text/plain": [
       "F1         0\n",
       "F2         0\n",
       "F3         0\n",
       "F4         0\n",
       "F5         0\n",
       "F6         0\n",
       "F7         0\n",
       "F8         0\n",
       "F9         0\n",
       "F10        0\n",
       "F11        0\n",
       "F12        0\n",
       "F13        0\n",
       "F14        0\n",
       "F15      750\n",
       "Class      0\n",
       "dtype: int64"
      ]
     },
     "execution_count": 6,
     "metadata": {},
     "output_type": "execute_result"
    }
   ],
   "source": [
    "# Checking for null values\n",
    "data.isnull().sum()"
   ]
  },
  {
   "cell_type": "code",
   "execution_count": 7,
   "metadata": {},
   "outputs": [],
   "source": [
    "# filling the null values with mean of the column\n",
    "data[\"F15\"].fillna(data[\"F15\"].mean(), inplace = True)"
   ]
  },
  {
   "cell_type": "code",
   "execution_count": 8,
   "metadata": {},
   "outputs": [
    {
     "data": {
      "text/plain": [
       "F1       0\n",
       "F2       0\n",
       "F3       0\n",
       "F4       0\n",
       "F5       0\n",
       "F6       0\n",
       "F7       0\n",
       "F8       0\n",
       "F9       0\n",
       "F10      0\n",
       "F11      0\n",
       "F12      0\n",
       "F13      0\n",
       "F14      0\n",
       "F15      0\n",
       "Class    0\n",
       "dtype: int64"
      ]
     },
     "execution_count": 8,
     "metadata": {},
     "output_type": "execute_result"
    }
   ],
   "source": [
    "# Again checking the data for null values\n",
    "data.isnull().sum()"
   ]
  },
  {
   "cell_type": "code",
   "execution_count": 9,
   "metadata": {},
   "outputs": [
    {
     "data": {
      "text/plain": [
       "False"
      ]
     },
     "execution_count": 9,
     "metadata": {},
     "output_type": "execute_result"
    }
   ],
   "source": [
    "data.isnull().values.any()"
   ]
  },
  {
   "cell_type": "code",
   "execution_count": 10,
   "metadata": {},
   "outputs": [
    {
     "data": {
      "text/html": [
       "<div>\n",
       "<style scoped>\n",
       "    .dataframe tbody tr th:only-of-type {\n",
       "        vertical-align: middle;\n",
       "    }\n",
       "\n",
       "    .dataframe tbody tr th {\n",
       "        vertical-align: top;\n",
       "    }\n",
       "\n",
       "    .dataframe thead th {\n",
       "        text-align: right;\n",
       "    }\n",
       "</style>\n",
       "<table border=\"1\" class=\"dataframe\">\n",
       "  <thead>\n",
       "    <tr style=\"text-align: right;\">\n",
       "      <th></th>\n",
       "      <th>F1</th>\n",
       "      <th>F2</th>\n",
       "      <th>F3</th>\n",
       "      <th>F4</th>\n",
       "      <th>F5</th>\n",
       "      <th>F6</th>\n",
       "      <th>F7</th>\n",
       "      <th>F8</th>\n",
       "      <th>F9</th>\n",
       "      <th>F10</th>\n",
       "      <th>F11</th>\n",
       "      <th>F12</th>\n",
       "      <th>F13</th>\n",
       "      <th>F14</th>\n",
       "      <th>F15</th>\n",
       "      <th>Class</th>\n",
       "    </tr>\n",
       "  </thead>\n",
       "  <tbody>\n",
       "    <tr>\n",
       "      <th>0</th>\n",
       "      <td>-4</td>\n",
       "      <td>765</td>\n",
       "      <td>-3.72</td>\n",
       "      <td>26.40</td>\n",
       "      <td>30</td>\n",
       "      <td>5.15</td>\n",
       "      <td>18.66</td>\n",
       "      <td>31.06</td>\n",
       "      <td>-4.80</td>\n",
       "      <td>15.18</td>\n",
       "      <td>-5.05</td>\n",
       "      <td>-6.56</td>\n",
       "      <td>-766.22</td>\n",
       "      <td>-1.98</td>\n",
       "      <td>-4.670000</td>\n",
       "      <td>False</td>\n",
       "    </tr>\n",
       "    <tr>\n",
       "      <th>1</th>\n",
       "      <td>-3</td>\n",
       "      <td>3</td>\n",
       "      <td>-7.10</td>\n",
       "      <td>1.20</td>\n",
       "      <td>3</td>\n",
       "      <td>0.36</td>\n",
       "      <td>-119.34</td>\n",
       "      <td>20.00</td>\n",
       "      <td>6.39</td>\n",
       "      <td>19.92</td>\n",
       "      <td>-5.29</td>\n",
       "      <td>0.32</td>\n",
       "      <td>-524.22</td>\n",
       "      <td>2.12</td>\n",
       "      <td>-7.076347</td>\n",
       "      <td>False</td>\n",
       "    </tr>\n",
       "    <tr>\n",
       "      <th>2</th>\n",
       "      <td>-4</td>\n",
       "      <td>735</td>\n",
       "      <td>-1.70</td>\n",
       "      <td>14.50</td>\n",
       "      <td>30</td>\n",
       "      <td>6.50</td>\n",
       "      <td>183.66</td>\n",
       "      <td>37.36</td>\n",
       "      <td>-11.88</td>\n",
       "      <td>11.22</td>\n",
       "      <td>-7.79</td>\n",
       "      <td>-9.64</td>\n",
       "      <td>-776.22</td>\n",
       "      <td>-3.88</td>\n",
       "      <td>-6.570000</td>\n",
       "      <td>False</td>\n",
       "    </tr>\n",
       "    <tr>\n",
       "      <th>3</th>\n",
       "      <td>-14</td>\n",
       "      <td>90</td>\n",
       "      <td>-2.55</td>\n",
       "      <td>13.30</td>\n",
       "      <td>30</td>\n",
       "      <td>7.95</td>\n",
       "      <td>-236.34</td>\n",
       "      <td>32.06</td>\n",
       "      <td>-3.09</td>\n",
       "      <td>15.86</td>\n",
       "      <td>-4.33</td>\n",
       "      <td>-8.76</td>\n",
       "      <td>-916.22</td>\n",
       "      <td>-3.41</td>\n",
       "      <td>-7.076347</td>\n",
       "      <td>False</td>\n",
       "    </tr>\n",
       "    <tr>\n",
       "      <th>4</th>\n",
       "      <td>-1</td>\n",
       "      <td>174</td>\n",
       "      <td>-7.63</td>\n",
       "      <td>3.74</td>\n",
       "      <td>3</td>\n",
       "      <td>0.94</td>\n",
       "      <td>-143.34</td>\n",
       "      <td>19.58</td>\n",
       "      <td>11.67</td>\n",
       "      <td>19.62</td>\n",
       "      <td>-7.63</td>\n",
       "      <td>1.12</td>\n",
       "      <td>-506.22</td>\n",
       "      <td>3.08</td>\n",
       "      <td>-7.076347</td>\n",
       "      <td>False</td>\n",
       "    </tr>\n",
       "  </tbody>\n",
       "</table>\n",
       "</div>"
      ],
      "text/plain": [
       "   F1   F2    F3     F4  F5    F6      F7     F8     F9    F10   F11   F12  \\\n",
       "0  -4  765 -3.72  26.40  30  5.15   18.66  31.06  -4.80  15.18 -5.05 -6.56   \n",
       "1  -3    3 -7.10   1.20   3  0.36 -119.34  20.00   6.39  19.92 -5.29  0.32   \n",
       "2  -4  735 -1.70  14.50  30  6.50  183.66  37.36 -11.88  11.22 -7.79 -9.64   \n",
       "3 -14   90 -2.55  13.30  30  7.95 -236.34  32.06  -3.09  15.86 -4.33 -8.76   \n",
       "4  -1  174 -7.63   3.74   3  0.94 -143.34  19.58  11.67  19.62 -7.63  1.12   \n",
       "\n",
       "      F13   F14       F15  Class  \n",
       "0 -766.22 -1.98 -4.670000  False  \n",
       "1 -524.22  2.12 -7.076347  False  \n",
       "2 -776.22 -3.88 -6.570000  False  \n",
       "3 -916.22 -3.41 -7.076347  False  \n",
       "4 -506.22  3.08 -7.076347  False  "
      ]
     },
     "execution_count": 10,
     "metadata": {},
     "output_type": "execute_result"
    }
   ],
   "source": [
    "test_data.head()"
   ]
  },
  {
   "cell_type": "code",
   "execution_count": 11,
   "metadata": {},
   "outputs": [],
   "source": [
    "# filling the null values with mean of the column\n",
    "test_data[\"F15\"].fillna(test_data[\"F15\"].mean(), inplace = True)"
   ]
  },
  {
   "cell_type": "code",
   "execution_count": 12,
   "metadata": {},
   "outputs": [
    {
     "data": {
      "text/plain": [
       "F1       0\n",
       "F2       0\n",
       "F3       0\n",
       "F4       0\n",
       "F5       0\n",
       "F6       0\n",
       "F7       0\n",
       "F8       0\n",
       "F9       0\n",
       "F10      0\n",
       "F11      0\n",
       "F12      0\n",
       "F13      0\n",
       "F14      0\n",
       "F15      0\n",
       "Class    0\n",
       "dtype: int64"
      ]
     },
     "execution_count": 12,
     "metadata": {},
     "output_type": "execute_result"
    }
   ],
   "source": [
    "test_data.isnull().sum()"
   ]
  },
  {
   "cell_type": "code",
   "execution_count": 17,
   "metadata": {},
   "outputs": [
    {
     "data": {
      "text/plain": [
       "(1500, 16)"
      ]
     },
     "execution_count": 17,
     "metadata": {},
     "output_type": "execute_result"
    }
   ],
   "source": [
    "data.shape"
   ]
  },
  {
   "cell_type": "code",
   "execution_count": 20,
   "metadata": {},
   "outputs": [
    {
     "data": {
      "text/plain": [
       "F1         int64\n",
       "F2         int64\n",
       "F3       float64\n",
       "F4       float64\n",
       "F5         int64\n",
       "F6       float64\n",
       "F7       float64\n",
       "F8       float64\n",
       "F9       float64\n",
       "F10      float64\n",
       "F11      float64\n",
       "F12      float64\n",
       "F13      float64\n",
       "F14      float64\n",
       "F15      float64\n",
       "Class       bool\n",
       "dtype: object"
      ]
     },
     "execution_count": 20,
     "metadata": {},
     "output_type": "execute_result"
    }
   ],
   "source": [
    "data.dtypes"
   ]
  },
  {
   "cell_type": "markdown",
   "metadata": {},
   "source": [
    "### Data Normalization"
   ]
  },
  {
   "cell_type": "code",
   "execution_count": 13,
   "metadata": {},
   "outputs": [],
   "source": [
    "# Data Normalization\n",
    "from sklearn.preprocessing import MinMaxScaler\n",
    "Scaler = MinMaxScaler()\n",
    "data1 = Scaler.fit_transform(data)\n",
    "test_data_set = Scaler.fit_transform(test_data)\n"
   ]
  },
  {
   "cell_type": "code",
   "execution_count": 14,
   "metadata": {},
   "outputs": [],
   "source": [
    "# dividing features and lables for train set\n",
    "x = data1[:,:-1]\n",
    "y = data1[:,15]"
   ]
  },
  {
   "cell_type": "code",
   "execution_count": 15,
   "metadata": {},
   "outputs": [],
   "source": [
    "# Dividing features and lables for test set\n",
    "X_test_data = test_data_set[:,:-1]\n",
    "Y_test_data = test_data_set[:,15]"
   ]
  },
  {
   "cell_type": "code",
   "execution_count": 16,
   "metadata": {},
   "outputs": [],
   "source": [
    "# Train Test Split for training and evaluating model\n",
    "from sklearn.model_selection import train_test_split\n",
    "X_train, X_test, Y_train, Y_test = train_test_split(x, y, test_size=0.3, random_state=0)"
   ]
  },
  {
   "cell_type": "markdown",
   "metadata": {},
   "source": [
    "### Decision Tree Classifier"
   ]
  },
  {
   "cell_type": "code",
   "execution_count": 38,
   "metadata": {},
   "outputs": [],
   "source": [
    "# Decision Tree Classifier\n",
    "from sklearn.tree import DecisionTreeClassifier"
   ]
  },
  {
   "cell_type": "code",
   "execution_count": 39,
   "metadata": {},
   "outputs": [],
   "source": [
    "class_DT = DecisionTreeClassifier()\n"
   ]
  },
  {
   "cell_type": "code",
   "execution_count": 16,
   "metadata": {},
   "outputs": [],
   "source": [
    "# Parameters grid for Decision Tree Classifier\n",
    "param_grids = {'max_depth': np.arange(1, 21),\n",
    "             'min_samples_leaf': [1, 5, 10, 20, 50, 100]}"
   ]
  },
  {
   "cell_type": "code",
   "execution_count": 17,
   "metadata": {},
   "outputs": [
    {
     "data": {
      "text/plain": [
       "GridSearchCV(cv=StratifiedKFold(n_splits=10, random_state=None, shuffle=False),\n",
       "             estimator=DecisionTreeClassifier(),\n",
       "             param_grid={'max_depth': array([ 1,  2,  3,  4,  5,  6,  7,  8,  9, 10, 11, 12, 13, 14, 15, 16, 17,\n",
       "       18, 19, 20]),\n",
       "                         'min_samples_leaf': [1, 5, 10, 20, 50, 100]})"
      ]
     },
     "execution_count": 17,
     "metadata": {},
     "output_type": "execute_result"
    }
   ],
   "source": [
    "# Applying Grid Search for Decision tree\n",
    "decision=GridSearchCV(class_DT,param_grids, cv=StratifiedKFold(n_splits=10))\n",
    "# Fitting the Model\n",
    "\n",
    "decision.fit(X_train,Y_train)\n"
   ]
  },
  {
   "cell_type": "code",
   "execution_count": 1,
   "metadata": {},
   "outputs": [
    {
     "ename": "NameError",
     "evalue": "name 'decision' is not defined",
     "output_type": "error",
     "traceback": [
      "\u001b[1;31m---------------------------------------------------------------------------\u001b[0m",
      "\u001b[1;31mNameError\u001b[0m                                 Traceback (most recent call last)",
      "\u001b[1;32m<ipython-input-1-d4382c137c95>\u001b[0m in \u001b[0;36m<module>\u001b[1;34m\u001b[0m\n\u001b[0;32m      1\u001b[0m \u001b[1;31m# Best parameters from grid search\u001b[0m\u001b[1;33m\u001b[0m\u001b[1;33m\u001b[0m\u001b[1;33m\u001b[0m\u001b[0m\n\u001b[1;32m----> 2\u001b[1;33m \u001b[0mdecision\u001b[0m\u001b[1;33m.\u001b[0m\u001b[0mbest_params_\u001b[0m\u001b[1;33m\u001b[0m\u001b[1;33m\u001b[0m\u001b[0m\n\u001b[0m",
      "\u001b[1;31mNameError\u001b[0m: name 'decision' is not defined"
     ]
    }
   ],
   "source": [
    "# Best parameters from grid search\n",
    "decision.best_params_"
   ]
  },
  {
   "cell_type": "code",
   "execution_count": 40,
   "metadata": {},
   "outputs": [
    {
     "data": {
      "text/plain": [
       "DecisionTreeClassifier(max_depth=12, min_samples_leaf=5)"
      ]
     },
     "execution_count": 40,
     "metadata": {},
     "output_type": "execute_result"
    }
   ],
   "source": [
    "# Fitting Decision tree classifier for best parameters after grid search\n",
    "decision_tree_classifier = DecisionTreeClassifier(max_depth = 12, min_samples_leaf = 5)\n",
    "\n",
    "decision_tree_classifier.fit(X_train,Y_train)"
   ]
  },
  {
   "cell_type": "code",
   "execution_count": 41,
   "metadata": {},
   "outputs": [
    {
     "name": "stdout",
     "output_type": "stream",
     "text": [
      "Accuracy of Decision Tree Classifier is :   77.33333333333333\n"
     ]
    }
   ],
   "source": [
    "# Accuracy for the Decision Tree classifier\n",
    "accuracy = accuracy_score(Y_test,decision_tree_classifier.predict(X_test))*100\n",
    "print('Accuracy of Decision Tree Classifier is :  ', accuracy)"
   ]
  },
  {
   "cell_type": "code",
   "execution_count": 21,
   "metadata": {},
   "outputs": [
    {
     "name": "stdout",
     "output_type": "stream",
     "text": [
      "[[194  56]\n",
      " [ 46 154]]\n",
      "              precision    recall  f1-score   support\n",
      "\n",
      "         0.0       0.81      0.78      0.79       250\n",
      "         1.0       0.73      0.77      0.75       200\n",
      "\n",
      "    accuracy                           0.77       450\n",
      "   macro avg       0.77      0.77      0.77       450\n",
      "weighted avg       0.78      0.77      0.77       450\n",
      "\n"
     ]
    }
   ],
   "source": [
    "# Confusion Matrix For Predictions in Decision Tree classifier\n",
    "print(confusion_matrix(Y_test, decision_tree_classifier.predict(X_test)))\n",
    "# Classification Report for predictions in Decision Tree\n",
    "print(classification_report(Y_test,decision_tree_classifier.predict(X_test) ))"
   ]
  },
  {
   "cell_type": "markdown",
   "metadata": {},
   "source": [
    "### K- Nearest Neighbors"
   ]
  },
  {
   "cell_type": "code",
   "execution_count": 43,
   "metadata": {},
   "outputs": [],
   "source": [
    "# K Nearest Neighbors Classifier\n",
    "from sklearn.neighbors import KNeighborsClassifier"
   ]
  },
  {
   "cell_type": "code",
   "execution_count": 23,
   "metadata": {},
   "outputs": [
    {
     "data": {
      "text/plain": [
       "Text(0, 0.5, 'Error Rate')"
      ]
     },
     "execution_count": 23,
     "metadata": {},
     "output_type": "execute_result"
    },
    {
     "data": {
      "image/png": "[encoded data removed]",
      "text/plain": [
       "<Figure size 720x432 with 1 Axes>"
      ]
     },
     "metadata": {
      "needs_background": "light"
     },
     "output_type": "display_data"
    }
   ],
   "source": [
    "error_rate = [] \n",
    "  \n",
    "# for best k value \n",
    "for i in range(1, 16): \n",
    "      \n",
    "    knn = KNeighborsClassifier(n_neighbors = i) \n",
    "    knn.fit(X_train, Y_train) \n",
    "    pred_i = knn.predict(X_test) \n",
    "    error_rate.append(np.mean(pred_i != Y_test)) \n",
    "# plotting error against k value  \n",
    "plt.figure(figsize =(10, 6)) \n",
    "plt.plot(range(1, 16), error_rate, color ='blue', \n",
    "                linestyle ='dashed', marker ='o', \n",
    "         markerfacecolor ='red', markersize = 10) \n",
    "  \n",
    "plt.title('Error Rate vs. K Value') \n",
    "plt.xlabel('K') \n",
    "plt.ylabel('Error Rate') "
   ]
  },
  {
   "cell_type": "code",
   "execution_count": 44,
   "metadata": {},
   "outputs": [
    {
     "data": {
      "text/plain": [
       "KNeighborsClassifier(n_neighbors=15)"
      ]
     },
     "execution_count": 44,
     "metadata": {},
     "output_type": "execute_result"
    }
   ],
   "source": [
    "# Fitting model for best k \n",
    "knn = KNeighborsClassifier(n_neighbors = 15) \n",
    "knn.fit(X_train, Y_train) \n"
   ]
  },
  {
   "cell_type": "code",
   "execution_count": 75,
   "metadata": {},
   "outputs": [
    {
     "name": "stdout",
     "output_type": "stream",
     "text": [
      "Training accuracy for  KNN 82.95238095238095\n"
     ]
    }
   ],
   "source": [
    "# predicting train set\n",
    "Train_Prediction_knn = knn.predict(X_train)\n",
    "# training accuracy \n",
    "print('Training accuracy for  KNN :',accuracy_score(Y_train,Train_Prediction_knn)*100)"
   ]
  },
  {
   "cell_type": "code",
   "execution_count": 46,
   "metadata": {},
   "outputs": [
    {
     "name": "stdout",
     "output_type": "stream",
     "text": [
      "[[494  65]\n",
      " [114 377]]\n",
      "              precision    recall  f1-score   support\n",
      "\n",
      "         0.0       0.81      0.88      0.85       559\n",
      "         1.0       0.85      0.77      0.81       491\n",
      "\n",
      "    accuracy                           0.83      1050\n",
      "   macro avg       0.83      0.83      0.83      1050\n",
      "weighted avg       0.83      0.83      0.83      1050\n",
      "\n"
     ]
    }
   ],
   "source": [
    "# Training evaluation for KNN\n",
    "print(confusion_matrix(Y_train,Train_Prediction_knn ))\n",
    "# Classification report for training in KNN\n",
    "print(classification_report(Y_train,Train_Prediction_knn))"
   ]
  },
  {
   "cell_type": "code",
   "execution_count": 106,
   "metadata": {},
   "outputs": [
    {
     "name": "stdout",
     "output_type": "stream",
     "text": [
      "Accuracy Score for evaluation in KNN  79.55555555555556\n"
     ]
    }
   ],
   "source": [
    "# predicting from evaluation set in KNN\n",
    "pred_y_knn = knn.predict(X_test)\n",
    "# Accuracy Score from evaluation set in KNN\n",
    "print('Accuracy Score for evaluation in KNN ',accuracy_score(Y_test,pred_y_knn)*100)"
   ]
  },
  {
   "cell_type": "code",
   "execution_count": 25,
   "metadata": {},
   "outputs": [
    {
     "name": "stdout",
     "output_type": "stream",
     "text": [
      "[[200  50]\n",
      " [ 42 158]]\n",
      "              precision    recall  f1-score   support\n",
      "\n",
      "         0.0       0.83      0.80      0.81       250\n",
      "         1.0       0.76      0.79      0.77       200\n",
      "\n",
      "    accuracy                           0.80       450\n",
      "   macro avg       0.79      0.80      0.79       450\n",
      "weighted avg       0.80      0.80      0.80       450\n",
      "\n"
     ]
    }
   ],
   "source": [
    "# Confusion Matrix for evaluation in KNN\n",
    "print(confusion_matrix(Y_test, pred_y_knn))\n",
    "# Classification  report for evaluation in KNN\n",
    "print(classification_report(Y_test, pred_y_knn))"
   ]
  },
  {
   "cell_type": "markdown",
   "metadata": {},
   "source": [
    "### Logistic Regression"
   ]
  },
  {
   "cell_type": "code",
   "execution_count": 49,
   "metadata": {},
   "outputs": [],
   "source": [
    "#Logistic Regression Algorithm\n",
    "from sklearn.linear_model import LogisticRegression"
   ]
  },
  {
   "cell_type": "code",
   "execution_count": 70,
   "metadata": {},
   "outputs": [],
   "source": [
    "# Hyper parameters for grid search\n",
    "grid={\"C\":[1,10,100],\n",
    "      \"penalty\":[\"l1\",\"l2\"]}# l1 lasso l2 ridge"
   ]
  },
  {
   "cell_type": "code",
   "execution_count": 71,
   "metadata": {},
   "outputs": [
    {
     "name": "stdout",
     "output_type": "stream",
     "text": [
      "tuned hpyerparameters :(best parameters)  {'C': 100, 'penalty': 'l2'}\n"
     ]
    }
   ],
   "source": [
    "# implementing grid search for Ligistic Regression model\n",
    "grid_search=GridSearchCV(LogisticRegression(),\n",
    "                         grid,\n",
    "                         cv=StratifiedKFold(n_splits=10))\n",
    "\n",
    "# Fitting train data to best estimator\n",
    "grid_search.fit(X_train,Y_train)\n",
    "\n"
   ]
  },
  {
   "cell_type": "code",
   "execution_count": 108,
   "metadata": {},
   "outputs": [
    {
     "name": "stdout",
     "output_type": "stream",
     "text": [
      "tuned hyperparameters :(best parameters)  {'C': 100, 'penalty': 'l2'}\n"
     ]
    }
   ],
   "source": [
    "# Priting best parametrs found in Gridsearch\n",
    "print(\"tuned hyperparameters :(best parameters) \",grid_search.best_params_)"
   ]
  },
  {
   "cell_type": "code",
   "execution_count": 76,
   "metadata": {},
   "outputs": [
    {
     "data": {
      "text/plain": [
       "LogisticRegression(C=100)"
      ]
     },
     "execution_count": 76,
     "metadata": {},
     "output_type": "execute_result"
    }
   ],
   "source": [
    "# Fitting Logistic Regression Model for best parameters\n",
    "Logistic_regression_model = LogisticRegression(C = 100, penalty = 'l2' )\n",
    "Logistic_regression_model.fit(X_train,Y_train)"
   ]
  },
  {
   "cell_type": "code",
   "execution_count": 78,
   "metadata": {},
   "outputs": [
    {
     "data": {
      "text/plain": [
       "0.8742857142857143"
      ]
     },
     "execution_count": 78,
     "metadata": {},
     "output_type": "execute_result"
    }
   ],
   "source": [
    "# Training Accuracy for Logistic Regression\n",
    "Train_evaluation_logistic = Logistic_regression_model.predict(X_train)\n",
    "accuracy_score(Y_train,Train_evaluation_logistic)"
   ]
  },
  {
   "cell_type": "code",
   "execution_count": 54,
   "metadata": {},
   "outputs": [],
   "source": [
    "# Predicting values from evaluation set\n",
    "Logistic_prediction = Logistic_regression_model.predict(X_test)"
   ]
  },
  {
   "cell_type": "code",
   "execution_count": 56,
   "metadata": {},
   "outputs": [
    {
     "data": {
      "text/plain": [
       "88.66666666666667"
      ]
     },
     "execution_count": 56,
     "metadata": {},
     "output_type": "execute_result"
    }
   ],
   "source": [
    "# Testing accuracy of evaluation set in Logistic regression\n",
    "accuracy_score(Y_test,Logistic_prediction )*100"
   ]
  },
  {
   "cell_type": "code",
   "execution_count": 79,
   "metadata": {
    "scrolled": true
   },
   "outputs": [
    {
     "name": "stdout",
     "output_type": "stream",
     "text": [
      "[[220  30]\n",
      " [ 21 179]]\n",
      "              precision    recall  f1-score   support\n",
      "\n",
      "         0.0       0.91      0.88      0.90       250\n",
      "         1.0       0.86      0.90      0.88       200\n",
      "\n",
      "    accuracy                           0.89       450\n",
      "   macro avg       0.88      0.89      0.89       450\n",
      "weighted avg       0.89      0.89      0.89       450\n",
      "\n"
     ]
    }
   ],
   "source": [
    "# Confusion matrix and classification report for Logistic Regression\n",
    "print(confusion_matrix(Y_test,Logistic_prediction ))\n",
    "print(classification_report(Y_test, Logistic_prediction))"
   ]
  },
  {
   "cell_type": "markdown",
   "metadata": {},
   "source": [
    "### Support Vector Machine"
   ]
  },
  {
   "cell_type": "code",
   "execution_count": 111,
   "metadata": {},
   "outputs": [],
   "source": [
    "from sklearn.svm import SVC"
   ]
  },
  {
   "cell_type": "code",
   "execution_count": 112,
   "metadata": {},
   "outputs": [],
   "source": [
    "# Defining a model\n",
    "SVModel = SVC(random_state = 0)"
   ]
  },
  {
   "cell_type": "code",
   "execution_count": 113,
   "metadata": {},
   "outputs": [],
   "source": [
    "# Parameters Grid for hyper parameter tuining\n",
    "parm = {'kernel':('linear','poly','rbf','sigmoid'),\n",
    "       'C':[1,52,10],\n",
    "       'degree':[3,8],\n",
    "       'coef0':[0.001,10,0.5],\n",
    "       'gamma':('auto','scale')}"
   ]
  },
  {
   "cell_type": "code",
   "execution_count": 114,
   "metadata": {},
   "outputs": [
    {
     "data": {
      "text/plain": [
       "GridSearchCV(cv=StratifiedKFold(n_splits=7, random_state=None, shuffle=False),\n",
       "             estimator=SVC(random_state=0),\n",
       "             param_grid={'C': [1, 52, 10], 'coef0': [0.001, 10, 0.5],\n",
       "                         'degree': [3, 8], 'gamma': ('auto', 'scale'),\n",
       "                         'kernel': ('linear', 'poly', 'rbf', 'sigmoid')})"
      ]
     },
     "execution_count": 114,
     "metadata": {},
     "output_type": "execute_result"
    }
   ],
   "source": [
    "# Grid Search for best parameters in SVM\n",
    "Grids = GridSearchCV(SVModel, parm,  cv=StratifiedKFold(n_splits= 7))\n",
    "Grids.fit(X_train,Y_train)"
   ]
  },
  {
   "cell_type": "code",
   "execution_count": 115,
   "metadata": {},
   "outputs": [
    {
     "data": {
      "text/plain": [
       "0.8942857142857142"
      ]
     },
     "execution_count": 115,
     "metadata": {},
     "output_type": "execute_result"
    }
   ],
   "source": [
    "# Best parameters and best score from grid search\n",
    "Grids.best_params_\n",
    "Grids.best_score_"
   ]
  },
  {
   "cell_type": "code",
   "execution_count": 118,
   "metadata": {},
   "outputs": [
    {
     "data": {
      "text/plain": [
       "SVC(C=52, coef0=0.001)"
      ]
     },
     "execution_count": 118,
     "metadata": {},
     "output_type": "execute_result"
    }
   ],
   "source": [
    "# Fitting model for best hyper parabeters\n",
    "SVModel_classification = SVC(C= 52, coef0 = 0.001, degree =  3, gamma = 'scale', kernel = 'rbf')\n",
    "SVModel_classification.fit(X_train,Y_train)"
   ]
  },
  {
   "cell_type": "code",
   "execution_count": 116,
   "metadata": {},
   "outputs": [],
   "source": [
    "train_Prediction = SVModel_classification.predict(X_train)\n",
    "train_acc = accuracy_score(Y_train, train_Prediction)\n",
    "print('Training Accuracy : ', train_acc)"
   ]
  },
  {
   "cell_type": "code",
   "execution_count": 32,
   "metadata": {},
   "outputs": [],
   "source": [
    "# predictions for evaluation set in SVM\n",
    "SVC_presictions = SVModel_classification.predict(X_test)"
   ]
  },
  {
   "cell_type": "code",
   "execution_count": 107,
   "metadata": {},
   "outputs": [
    {
     "name": "stdout",
     "output_type": "stream",
     "text": [
      "Accuracy for SVM  90.44444444444444\n"
     ]
    }
   ],
   "source": [
    "# Accuracy Score for evaluation in SVM\n",
    "print(\"Accuracy for SVM \",accuracy_score(Y_test,SVC_presictions )*100)"
   ]
  },
  {
   "cell_type": "code",
   "execution_count": 34,
   "metadata": {},
   "outputs": [
    {
     "name": "stdout",
     "output_type": "stream",
     "text": [
      "[[228  22]\n",
      " [ 21 179]]\n",
      "              precision    recall  f1-score   support\n",
      "\n",
      "         0.0       0.92      0.91      0.91       250\n",
      "         1.0       0.89      0.90      0.89       200\n",
      "\n",
      "    accuracy                           0.90       450\n",
      "   macro avg       0.90      0.90      0.90       450\n",
      "weighted avg       0.90      0.90      0.90       450\n",
      "\n"
     ]
    }
   ],
   "source": [
    "# Classification report and confusion matrix for evaluation in SVM \n",
    "print(confusion_matrix(Y_test,SVC_presictions ))\n",
    "print(classification_report(Y_test, SVC_presictions))"
   ]
  },
  {
   "cell_type": "markdown",
   "metadata": {},
   "source": [
    "### Prediction on a hold out Test Set Values from the best model"
   ]
  },
  {
   "cell_type": "code",
   "execution_count": 35,
   "metadata": {},
   "outputs": [],
   "source": [
    "# Predicting Test Class from SVM Model\n",
    "SVC_presictions_deployment = SVModel_classification.predict(X_test_data)"
   ]
  },
  {
   "cell_type": "code",
   "execution_count": 36,
   "metadata": {},
   "outputs": [
    {
     "data": {
      "text/plain": [
       "array([0., 0., 0., ..., 0., 1., 0.])"
      ]
     },
     "execution_count": 36,
     "metadata": {},
     "output_type": "execute_result"
    }
   ],
   "source": [
    "# Model Predictions\n",
    "SVC_presictions_deployment"
   ]
  },
  {
   "cell_type": "code",
   "execution_count": 91,
   "metadata": {},
   "outputs": [],
   "source": [
    "# Conversting the predictions into Series\n",
    "Predictions_deployment = pd.Series(SVC_presictions_deployment)"
   ]
  },
  {
   "cell_type": "code",
   "execution_count": 92,
   "metadata": {},
   "outputs": [],
   "source": [
    "# Mapping Predictions\n",
    "Predictions_deployment = Predictions_deployment.map({0:False,1:True})"
   ]
  },
  {
   "cell_type": "code",
   "execution_count": 97,
   "metadata": {},
   "outputs": [],
   "source": [
    "# Filling the Null values in the  Class column with predictions\n",
    "test_data[\"Class\"] = Predictions_deployment"
   ]
  },
  {
   "cell_type": "code",
   "execution_count": 102,
   "metadata": {},
   "outputs": [
    {
     "data": {
      "text/html": [
       "<div>\n",
       "<style scoped>\n",
       "    .dataframe tbody tr th:only-of-type {\n",
       "        vertical-align: middle;\n",
       "    }\n",
       "\n",
       "    .dataframe tbody tr th {\n",
       "        vertical-align: top;\n",
       "    }\n",
       "\n",
       "    .dataframe thead th {\n",
       "        text-align: right;\n",
       "    }\n",
       "</style>\n",
       "<table border=\"1\" class=\"dataframe\">\n",
       "  <thead>\n",
       "    <tr style=\"text-align: right;\">\n",
       "      <th></th>\n",
       "      <th>F1</th>\n",
       "      <th>F2</th>\n",
       "      <th>F3</th>\n",
       "      <th>F4</th>\n",
       "      <th>F5</th>\n",
       "      <th>F6</th>\n",
       "      <th>F7</th>\n",
       "      <th>F8</th>\n",
       "      <th>F9</th>\n",
       "      <th>F10</th>\n",
       "      <th>F11</th>\n",
       "      <th>F12</th>\n",
       "      <th>F13</th>\n",
       "      <th>F14</th>\n",
       "      <th>F15</th>\n",
       "      <th>Class</th>\n",
       "    </tr>\n",
       "  </thead>\n",
       "  <tbody>\n",
       "    <tr>\n",
       "      <th>0</th>\n",
       "      <td>-4</td>\n",
       "      <td>765</td>\n",
       "      <td>-3.72</td>\n",
       "      <td>26.40</td>\n",
       "      <td>30</td>\n",
       "      <td>5.15</td>\n",
       "      <td>18.66</td>\n",
       "      <td>31.06</td>\n",
       "      <td>-4.80</td>\n",
       "      <td>15.18</td>\n",
       "      <td>-5.05</td>\n",
       "      <td>-6.56</td>\n",
       "      <td>-766.22</td>\n",
       "      <td>-1.98</td>\n",
       "      <td>-4.670000</td>\n",
       "      <td>False</td>\n",
       "    </tr>\n",
       "    <tr>\n",
       "      <th>1</th>\n",
       "      <td>-3</td>\n",
       "      <td>3</td>\n",
       "      <td>-7.10</td>\n",
       "      <td>1.20</td>\n",
       "      <td>3</td>\n",
       "      <td>0.36</td>\n",
       "      <td>-119.34</td>\n",
       "      <td>20.00</td>\n",
       "      <td>6.39</td>\n",
       "      <td>19.92</td>\n",
       "      <td>-5.29</td>\n",
       "      <td>0.32</td>\n",
       "      <td>-524.22</td>\n",
       "      <td>2.12</td>\n",
       "      <td>-7.076347</td>\n",
       "      <td>False</td>\n",
       "    </tr>\n",
       "    <tr>\n",
       "      <th>2</th>\n",
       "      <td>-4</td>\n",
       "      <td>735</td>\n",
       "      <td>-1.70</td>\n",
       "      <td>14.50</td>\n",
       "      <td>30</td>\n",
       "      <td>6.50</td>\n",
       "      <td>183.66</td>\n",
       "      <td>37.36</td>\n",
       "      <td>-11.88</td>\n",
       "      <td>11.22</td>\n",
       "      <td>-7.79</td>\n",
       "      <td>-9.64</td>\n",
       "      <td>-776.22</td>\n",
       "      <td>-3.88</td>\n",
       "      <td>-6.570000</td>\n",
       "      <td>False</td>\n",
       "    </tr>\n",
       "    <tr>\n",
       "      <th>3</th>\n",
       "      <td>-14</td>\n",
       "      <td>90</td>\n",
       "      <td>-2.55</td>\n",
       "      <td>13.30</td>\n",
       "      <td>30</td>\n",
       "      <td>7.95</td>\n",
       "      <td>-236.34</td>\n",
       "      <td>32.06</td>\n",
       "      <td>-3.09</td>\n",
       "      <td>15.86</td>\n",
       "      <td>-4.33</td>\n",
       "      <td>-8.76</td>\n",
       "      <td>-916.22</td>\n",
       "      <td>-3.41</td>\n",
       "      <td>-7.076347</td>\n",
       "      <td>False</td>\n",
       "    </tr>\n",
       "    <tr>\n",
       "      <th>4</th>\n",
       "      <td>-1</td>\n",
       "      <td>174</td>\n",
       "      <td>-7.63</td>\n",
       "      <td>3.74</td>\n",
       "      <td>3</td>\n",
       "      <td>0.94</td>\n",
       "      <td>-143.34</td>\n",
       "      <td>19.58</td>\n",
       "      <td>11.67</td>\n",
       "      <td>19.62</td>\n",
       "      <td>-7.63</td>\n",
       "      <td>1.12</td>\n",
       "      <td>-506.22</td>\n",
       "      <td>3.08</td>\n",
       "      <td>-7.076347</td>\n",
       "      <td>False</td>\n",
       "    </tr>\n",
       "  </tbody>\n",
       "</table>\n",
       "</div>"
      ],
      "text/plain": [
       "   F1   F2    F3     F4  F5    F6      F7     F8     F9    F10   F11   F12  \\\n",
       "0  -4  765 -3.72  26.40  30  5.15   18.66  31.06  -4.80  15.18 -5.05 -6.56   \n",
       "1  -3    3 -7.10   1.20   3  0.36 -119.34  20.00   6.39  19.92 -5.29  0.32   \n",
       "2  -4  735 -1.70  14.50  30  6.50  183.66  37.36 -11.88  11.22 -7.79 -9.64   \n",
       "3 -14   90 -2.55  13.30  30  7.95 -236.34  32.06  -3.09  15.86 -4.33 -8.76   \n",
       "4  -1  174 -7.63   3.74   3  0.94 -143.34  19.58  11.67  19.62 -7.63  1.12   \n",
       "\n",
       "      F13   F14       F15  Class  \n",
       "0 -766.22 -1.98 -4.670000  False  \n",
       "1 -524.22  2.12 -7.076347  False  \n",
       "2 -776.22 -3.88 -6.570000  False  \n",
       "3 -916.22 -3.41 -7.076347  False  \n",
       "4 -506.22  3.08 -7.076347  False  "
      ]
     },
     "execution_count": 102,
     "metadata": {},
     "output_type": "execute_result"
    }
   ],
   "source": [
    "test_data.head()"
   ]
  },
  {
   "cell_type": "code",
   "execution_count": 103,
   "metadata": {},
   "outputs": [],
   "source": [
    "# Adding data to CSV file\n",
    "test_data.to_csv('CE802_P2_Test.csv', index = False)"
   ]
  },
  {
   "cell_type": "code",
   "execution_count": null,
   "metadata": {},
   "outputs": [],
   "source": [
    "\n"
   ]
  }
 ],
 "metadata": {
  "kernelspec": {
   "display_name": "Python 3",
   "language": "python",
   "name": "python3"
  },
  "language_info": {
   "codemirror_mode": {
    "name": "ipython",
    "version": 3
   },
   "file_extension": ".py",
   "mimetype": "text/x-python",
   "name": "python",
   "nbconvert_exporter": "python",
   "pygments_lexer": "ipython3",
   "version": "3.8.5"
  }
 },
 "nbformat": 4,
 "nbformat_minor": 4
}
